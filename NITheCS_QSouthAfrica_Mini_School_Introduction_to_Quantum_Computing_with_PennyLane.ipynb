{
  "nbformat": 4,
  "nbformat_minor": 0,
  "metadata": {
    "colab": {
      "provenance": [],
      "include_colab_link": true
    },
    "kernelspec": {
      "name": "python3",
      "display_name": "Python 3"
    },
    "language_info": {
      "name": "python"
    }
  },
  "cells": [
    {
      "cell_type": "markdown",
      "metadata": {
        "id": "view-in-github",
        "colab_type": "text"
      },
      "source": [
        "<a href=\"https://colab.research.google.com/github/lihledlamini/AIMS_PP2019/blob/master/NITheCS_QSouthAfrica_Mini_School_Introduction_to_Quantum_Computing_with_PennyLane.ipynb\" target=\"_parent\"><img src=\"https://colab.research.google.com/assets/colab-badge.svg\" alt=\"Open In Colab\"/></a>"
      ]
    },
    {
      "cell_type": "markdown",
      "source": [
        "## Previous NITheCS/NITheP Schools on Quantum Computing"
      ],
      "metadata": {
        "id": "Leh2zIHf8lxQ"
      }
    },
    {
      "cell_type": "markdown",
      "source": [
        "1. Quantum Computing\n",
        "NITheP Mini-School by Dr Daniel Park (2020)   \n",
        "https://www.youtube.com/playlist?list=PLE9Qrf4CJnRGjWfSZ96cSjvm8t0IT1BFa   \n",
        "<br>\n",
        "\n",
        "2. Basic programming for quantum machine learning with Qiskit and PennyLane NITheP Mini-School by Amira Abbas (2020)   \n",
        "https://www.youtube.com/playlist?list=PLE9Qrf4CJnRHQ8K_WKcuE4mNoXl2HgY-r\n",
        "<br>\n",
        "\n",
        "3. A Practical Introduction to Quantum Computing with Qiskit NITheCS Mini-School by Ian Joel David (2022)  \n",
        "https://www.youtube.com/playlist?list=PLE9Qrf4CJnREpevvYhvjqCwO-f1qvRA8s   \n",
        "<br>\n",
        "\n",
        "4. An Introduction to the Quantum Simulation of Closed and Open Quantum Systems - NITheCS Mini-School by Ian Joel David (2024)\n",
        "https://www.youtube.com/playlist?list=PLE9Qrf4CJnREqZPZih2I24Q0IQhNrAZFO   \n",
        "<br>\n",
        "\n",
        "5. Mini-school From Electrons to Qubits: (Quantum Computing for Chemistry) NITheCS Mini-School by Shane McFarthing. (2024)   \n",
        "https://www.youtube.com/playlist?list=PLE9Qrf4CJnRGVPbcdw9ZHWYmCxRA7I0Be  \n",
        "<br>\n",
        "\n",
        "6. Hands-On Introduction to Quantum Computing with PennyLane - NITheCS Mini-school by Abbas (Omid) Hassasfar (2025)\n",
        "https://www.youtube.com/playlist?list=PLE9Qrf4CJnRFP8NedllrSPu-9KoyrdLi-"
      ],
      "metadata": {
        "id": "VTWVufK20jLh"
      }
    },
    {
      "cell_type": "markdown",
      "source": [
        "## Previous QSouthAfrica/QAfrica workshops on Quantum Computing"
      ],
      "metadata": {
        "id": "-B_azt468zPf"
      }
    },
    {
      "cell_type": "markdown",
      "source": [
        "https://qworld.net/qsouthafrica/\n",
        "\n",
        "https://www.linkedin.com/company/qsouthafrica\n",
        "<br><br>\n",
        "\n",
        "\n",
        "1. QBronze109 (Entangling event) : https://qworld.net/qbronze109/  (July 2023)   \n",
        "<br>\n",
        "2. QNickel9 (organized by QCousins of QTurkey, QIran, QSouthAfrica, and QUAE is a collective quantum workshop): https://qworld.net/qnickel9/ (December 2023)        \n",
        "<br>\n",
        "3. QPrep16, **QAfrica**: nine African QCousins – QSouthAfrica, QLibya, QNigeria, QCameroon, QAlgeria, QEgypt, QMorocco, QZimbabwe and QGhana ) :   https://qworld.net/qprep16/   (November 2024)    \n",
        "<br>\n",
        "4. QBronze147, **QAfrica** (nine African QCousins – QSouthAfrica, QLibya, QNigeria, QCameroon, QAlgeria, QEgypt, QMorocco, QZimbabwe and QGhana )  : https://qworld.net/qbronze147/ (December 2024)        \n",
        "<br>\n",
        "\n",
        "5. First QWorld Annual Meeting! January 2025 : https://qworld.net/qworld-annual-meeting/"
      ],
      "metadata": {
        "id": "mdcAGoOqHDBd"
      }
    },
    {
      "cell_type": "markdown",
      "source": [
        "## Quantum Computing Resource & Syllabus Mind Maps:"
      ],
      "metadata": {
        "id": "GIF0kpJxksYa"
      }
    },
    {
      "cell_type": "markdown",
      "source": [
        "‌ https://www.linkedin.com/feed/update/urn:li:activity:7357912387263299584/"
      ],
      "metadata": {
        "id": "UXH0iwV6vYJb"
      }
    },
    {
      "cell_type": "code",
      "source": [
        "# Show all installed Python packages in the current Google Colab environment\n",
        "\n",
        "!pip list"
      ],
      "metadata": {
        "colab": {
          "base_uri": "https://localhost:8080/"
        },
        "id": "iVl9Q2Fego2B",
        "outputId": "0770cfc0-3a6a-4431-828a-6c1049b9af35"
      },
      "execution_count": 1,
      "outputs": [
        {
          "output_type": "stream",
          "name": "stdout",
          "text": [
            "Package                               Version\n",
            "------------------------------------- ------------------\n",
            "absl-py                               1.4.0\n",
            "accelerate                            1.10.0\n",
            "aiofiles                              24.1.0\n",
            "aiohappyeyeballs                      2.6.1\n",
            "aiohttp                               3.12.15\n",
            "aiosignal                             1.4.0\n",
            "alabaster                             1.0.0\n",
            "albucore                              0.0.24\n",
            "albumentations                        2.0.8\n",
            "ale-py                                0.11.2\n",
            "altair                                5.5.0\n",
            "annotated-types                       0.7.0\n",
            "antlr4-python3-runtime                4.9.3\n",
            "anyio                                 4.10.0\n",
            "anywidget                             0.9.18\n",
            "argon2-cffi                           25.1.0\n",
            "argon2-cffi-bindings                  25.1.0\n",
            "array_record                          0.7.2\n",
            "arviz                                 0.22.0\n",
            "astropy                               7.1.0\n",
            "astropy-iers-data                     0.2025.8.11.0.41.9\n",
            "astunparse                            1.6.3\n",
            "atpublic                              5.1\n",
            "attrs                                 25.3.0\n",
            "audioread                             3.0.1\n",
            "autograd                              1.8.0\n",
            "babel                                 2.17.0\n",
            "backcall                              0.2.0\n",
            "beartype                              0.21.0\n",
            "beautifulsoup4                        4.13.4\n",
            "betterproto                           2.0.0b6\n",
            "bigframes                             2.15.0\n",
            "bigquery-magics                       0.10.2\n",
            "bleach                                6.2.0\n",
            "blinker                               1.9.0\n",
            "blis                                  1.3.0\n",
            "blobfile                              3.0.0\n",
            "blosc2                                3.7.0\n",
            "bokeh                                 3.7.3\n",
            "Bottleneck                            1.4.2\n",
            "bqplot                                0.12.45\n",
            "branca                                0.8.1\n",
            "Brotli                                1.1.0\n",
            "build                                 1.3.0\n",
            "CacheControl                          0.14.3\n",
            "cachetools                            5.5.2\n",
            "catalogue                             2.0.10\n",
            "certifi                               2025.8.3\n",
            "cffi                                  1.17.1\n",
            "chardet                               5.2.0\n",
            "charset-normalizer                    3.4.3\n",
            "chex                                  0.1.90\n",
            "clarabel                              0.11.1\n",
            "click                                 8.2.1\n",
            "cloudpathlib                          0.21.1\n",
            "cloudpickle                           3.1.1\n",
            "cmake                                 3.31.6\n",
            "cmdstanpy                             1.2.5\n",
            "colorcet                              3.1.0\n",
            "colorlover                            0.3.0\n",
            "colour                                0.1.5\n",
            "community                             1.0.0b1\n",
            "confection                            0.1.5\n",
            "cons                                  0.4.7\n",
            "contourpy                             1.3.3\n",
            "cramjam                               2.11.0\n",
            "cryptography                          43.0.3\n",
            "cuda-python                           12.6.2.post1\n",
            "cudf-cu12                             25.6.0\n",
            "cudf-polars-cu12                      25.6.0\n",
            "cufflinks                             0.17.3\n",
            "cuml-cu12                             25.6.0\n",
            "cupy-cuda12x                          13.3.0\n",
            "curl_cffi                             0.13.0\n",
            "cuvs-cu12                             25.6.1\n",
            "cvxopt                                1.3.2\n",
            "cvxpy                                 1.6.7\n",
            "cycler                                0.12.1\n",
            "cyipopt                               1.5.0\n",
            "cymem                                 2.0.11\n",
            "Cython                                3.0.12\n",
            "dask                                  2025.5.0\n",
            "dask-cuda                             25.6.0\n",
            "dask-cudf-cu12                        25.6.0\n",
            "dataproc-spark-connect                0.8.3\n",
            "datasets                              4.0.0\n",
            "db-dtypes                             1.4.3\n",
            "dbus-python                           1.2.18\n",
            "debugpy                               1.8.15\n",
            "decorator                             4.4.2\n",
            "defusedxml                            0.7.1\n",
            "diffusers                             0.34.0\n",
            "dill                                  0.3.8\n",
            "distributed                           2025.5.0\n",
            "distributed-ucxx-cu12                 0.44.0\n",
            "distro                                1.9.0\n",
            "dlib                                  19.24.6\n",
            "dm-tree                               0.1.9\n",
            "docstring_parser                      0.17.0\n",
            "docutils                              0.21.2\n",
            "dopamine_rl                           4.1.2\n",
            "duckdb                                1.3.2\n",
            "earthengine-api                       1.5.24\n",
            "easydict                              1.13\n",
            "editdistance                          0.8.1\n",
            "eerepr                                0.1.2\n",
            "einops                                0.8.1\n",
            "en_core_web_sm                        3.8.0\n",
            "entrypoints                           0.4\n",
            "et_xmlfile                            2.0.0\n",
            "etils                                 1.13.0\n",
            "etuples                               0.3.10\n",
            "Farama-Notifications                  0.0.4\n",
            "fastai                                2.8.3\n",
            "fastapi                               0.116.1\n",
            "fastcore                              1.8.7\n",
            "fastdownload                          0.0.7\n",
            "fastjsonschema                        2.21.2\n",
            "fastprogress                          1.0.3\n",
            "fastrlock                             0.8.3\n",
            "fasttransform                         0.0.2\n",
            "ffmpy                                 0.6.1\n",
            "filelock                              3.19.1\n",
            "firebase-admin                        6.9.0\n",
            "Flask                                 3.1.1\n",
            "flatbuffers                           25.2.10\n",
            "flax                                  0.10.6\n",
            "folium                                0.20.0\n",
            "fonttools                             4.59.1\n",
            "frozendict                            2.4.6\n",
            "frozenlist                            1.7.0\n",
            "fsspec                                2025.3.0\n",
            "future                                1.0.0\n",
            "gast                                  0.6.0\n",
            "gcsfs                                 2025.3.0\n",
            "GDAL                                  3.8.4\n",
            "gdown                                 5.2.0\n",
            "geemap                                0.35.3\n",
            "geocoder                              1.38.1\n",
            "geographiclib                         2.0\n",
            "geopandas                             1.1.1\n",
            "geopy                                 2.4.1\n",
            "gin-config                            0.5.0\n",
            "gitdb                                 4.0.12\n",
            "GitPython                             3.1.45\n",
            "glob2                                 0.7\n",
            "google                                2.0.3\n",
            "google-ai-generativelanguage          0.6.15\n",
            "google-api-core                       2.25.1\n",
            "google-api-python-client              2.179.0\n",
            "google-auth                           2.38.0\n",
            "google-auth-httplib2                  0.2.0\n",
            "google-auth-oauthlib                  1.2.2\n",
            "google-cloud-aiplatform               1.109.0\n",
            "google-cloud-bigquery                 3.35.1\n",
            "google-cloud-bigquery-connection      1.18.3\n",
            "google-cloud-bigquery-storage         2.32.0\n",
            "google-cloud-core                     2.4.3\n",
            "google-cloud-dataproc                 5.21.0\n",
            "google-cloud-datastore                2.21.0\n",
            "google-cloud-firestore                2.21.0\n",
            "google-cloud-functions                1.20.4\n",
            "google-cloud-language                 2.17.2\n",
            "google-cloud-resource-manager         1.14.2\n",
            "google-cloud-spanner                  3.57.0\n",
            "google-cloud-storage                  2.19.0\n",
            "google-cloud-translate                3.21.1\n",
            "google-colab                          1.0.0\n",
            "google-crc32c                         1.7.1\n",
            "google-genai                          1.30.0\n",
            "google-generativeai                   0.8.5\n",
            "google-pasta                          0.2.0\n",
            "google-resumable-media                2.7.2\n",
            "googleapis-common-protos              1.70.0\n",
            "googledrivedownloader                 1.1.0\n",
            "gradio                                5.42.0\n",
            "gradio_client                         1.11.1\n",
            "graphviz                              0.21\n",
            "greenlet                              3.2.4\n",
            "groovy                                0.1.2\n",
            "grpc-google-iam-v1                    0.14.2\n",
            "grpc-interceptor                      0.15.4\n",
            "grpcio                                1.74.0\n",
            "grpcio-status                         1.71.2\n",
            "grpclib                               0.4.8\n",
            "gspread                               6.2.1\n",
            "gspread-dataframe                     4.0.0\n",
            "gym                                   0.25.2\n",
            "gym-notices                           0.1.0\n",
            "gymnasium                             1.2.0\n",
            "h11                                   0.16.0\n",
            "h2                                    4.2.0\n",
            "h5netcdf                              1.6.4\n",
            "h5py                                  3.14.0\n",
            "hdbscan                               0.8.40\n",
            "hf_transfer                           0.1.9\n",
            "hf-xet                                1.1.7\n",
            "highspy                               1.11.0\n",
            "holidays                              0.78\n",
            "holoviews                             1.21.0\n",
            "hpack                                 4.1.0\n",
            "html5lib                              1.1\n",
            "httpcore                              1.0.9\n",
            "httpimport                            1.4.1\n",
            "httplib2                              0.22.0\n",
            "httpx                                 0.28.1\n",
            "huggingface-hub                       0.34.4\n",
            "humanize                              4.12.3\n",
            "hyperframe                            6.1.0\n",
            "hyperopt                              0.2.7\n",
            "ibis-framework                        9.5.0\n",
            "idna                                  3.10\n",
            "imageio                               2.37.0\n",
            "imageio-ffmpeg                        0.6.0\n",
            "imagesize                             1.4.1\n",
            "imbalanced-learn                      0.14.0\n",
            "immutabledict                         4.2.1\n",
            "importlib_metadata                    8.7.0\n",
            "importlib_resources                   6.5.2\n",
            "imutils                               0.5.4\n",
            "inflect                               7.5.0\n",
            "iniconfig                             2.1.0\n",
            "intel-cmplr-lib-ur                    2025.2.1\n",
            "intel-openmp                          2025.2.1\n",
            "ipyevents                             2.0.2\n",
            "ipyfilechooser                        0.6.0\n",
            "ipykernel                             6.17.1\n",
            "ipyleaflet                            0.20.0\n",
            "ipyparallel                           8.8.0\n",
            "ipython                               7.34.0\n",
            "ipython-genutils                      0.2.0\n",
            "ipython-sql                           0.5.0\n",
            "ipytree                               0.2.2\n",
            "ipywidgets                            7.7.1\n",
            "itsdangerous                          2.2.0\n",
            "jaraco.classes                        3.4.0\n",
            "jaraco.context                        6.0.1\n",
            "jaraco.functools                      4.2.1\n",
            "jax                                   0.5.3\n",
            "jax-cuda12-pjrt                       0.5.3\n",
            "jax-cuda12-plugin                     0.5.3\n",
            "jaxlib                                0.5.3\n",
            "jeepney                               0.9.0\n",
            "jieba                                 0.42.1\n",
            "Jinja2                                3.1.6\n",
            "jiter                                 0.10.0\n",
            "joblib                                1.5.1\n",
            "jsonpatch                             1.33\n",
            "jsonpickle                            4.1.1\n",
            "jsonpointer                           3.0.0\n",
            "jsonschema                            4.25.0\n",
            "jsonschema-specifications             2025.4.1\n",
            "jupyter-client                        6.1.12\n",
            "jupyter-console                       6.1.0\n",
            "jupyter_core                          5.8.1\n",
            "jupyter_kernel_gateway                2.5.2\n",
            "jupyter-leaflet                       0.20.0\n",
            "jupyter-server                        1.16.0\n",
            "jupyterlab_pygments                   0.3.0\n",
            "jupyterlab_widgets                    3.0.15\n",
            "jupytext                              1.17.2\n",
            "kaggle                                1.7.4.5\n",
            "kagglehub                             0.3.12\n",
            "keras                                 3.10.0\n",
            "keras-hub                             0.21.1\n",
            "keras-nlp                             0.21.1\n",
            "keyring                               25.6.0\n",
            "keyrings.google-artifactregistry-auth 1.1.2\n",
            "kiwisolver                            1.4.9\n",
            "langchain                             0.3.27\n",
            "langchain-core                        0.3.74\n",
            "langchain-text-splitters              0.3.9\n",
            "langcodes                             3.5.0\n",
            "langsmith                             0.4.14\n",
            "language_data                         1.3.0\n",
            "launchpadlib                          1.10.16\n",
            "lazr.restfulclient                    0.14.4\n",
            "lazr.uri                              1.0.6\n",
            "lazy_loader                           0.4\n",
            "libclang                              18.1.1\n",
            "libcudf-cu12                          25.6.0\n",
            "libcugraph-cu12                       25.6.0\n",
            "libcuml-cu12                          25.6.0\n",
            "libcuvs-cu12                          25.6.1\n",
            "libkvikio-cu12                        25.6.0\n",
            "libpysal                              4.13.0\n",
            "libraft-cu12                          25.6.0\n",
            "librmm-cu12                           25.6.0\n",
            "librosa                               0.11.0\n",
            "libucx-cu12                           1.18.1\n",
            "libucxx-cu12                          0.44.0\n",
            "lightgbm                              4.6.0\n",
            "linkify-it-py                         2.0.3\n",
            "llvmlite                              0.43.0\n",
            "locket                                1.0.0\n",
            "logical-unification                   0.4.6\n",
            "lxml                                  5.4.0\n",
            "Mako                                  1.1.3\n",
            "marisa-trie                           1.2.1\n",
            "Markdown                              3.8.2\n",
            "markdown-it-py                        4.0.0\n",
            "MarkupSafe                            3.0.2\n",
            "matplotlib                            3.10.0\n",
            "matplotlib-inline                     0.1.7\n",
            "matplotlib-venn                       1.1.2\n",
            "mdit-py-plugins                       0.5.0\n",
            "mdurl                                 0.1.2\n",
            "miniKanren                            1.0.5\n",
            "missingno                             0.5.2\n",
            "mistune                               3.1.3\n",
            "mizani                                0.13.5\n",
            "mkl                                   2025.2.0\n",
            "ml_dtypes                             0.5.3\n",
            "mlxtend                               0.23.4\n",
            "more-itertools                        10.7.0\n",
            "moviepy                               1.0.3\n",
            "mpmath                                1.3.0\n",
            "msgpack                               1.1.1\n",
            "multidict                             6.6.4\n",
            "multipledispatch                      1.0.0\n",
            "multiprocess                          0.70.16\n",
            "multitasking                          0.0.12\n",
            "murmurhash                            1.0.13\n",
            "music21                               9.3.0\n",
            "namex                                 0.1.0\n",
            "narwhals                              2.1.1\n",
            "natsort                               8.4.0\n",
            "nbclassic                             1.3.1\n",
            "nbclient                              0.10.2\n",
            "nbconvert                             7.16.6\n",
            "nbformat                              5.10.4\n",
            "ndindex                               1.10.0\n",
            "nest-asyncio                          1.6.0\n",
            "networkx                              3.5\n",
            "nibabel                               5.3.2\n",
            "nltk                                  3.9.1\n",
            "notebook                              6.5.7\n",
            "notebook_shim                         0.2.4\n",
            "numba                                 0.60.0\n",
            "numba-cuda                            0.11.0\n",
            "numexpr                               2.11.0\n",
            "numpy                                 2.0.2\n",
            "nvidia-cublas-cu12                    12.6.4.1\n",
            "nvidia-cuda-cupti-cu12                12.6.80\n",
            "nvidia-cuda-nvcc-cu12                 12.5.82\n",
            "nvidia-cuda-nvrtc-cu12                12.6.77\n",
            "nvidia-cuda-runtime-cu12              12.6.77\n",
            "nvidia-cudnn-cu12                     9.10.2.21\n",
            "nvidia-cufft-cu12                     11.3.0.4\n",
            "nvidia-cufile-cu12                    1.11.1.6\n",
            "nvidia-curand-cu12                    10.3.7.77\n",
            "nvidia-cusolver-cu12                  11.7.1.2\n",
            "nvidia-cusparse-cu12                  12.5.4.2\n",
            "nvidia-cusparselt-cu12                0.7.1\n",
            "nvidia-ml-py                          12.575.51\n",
            "nvidia-nccl-cu12                      2.27.3\n",
            "nvidia-nvjitlink-cu12                 12.6.85\n",
            "nvidia-nvtx-cu12                      12.6.77\n",
            "nvtx                                  0.2.13\n",
            "nx-cugraph-cu12                       25.6.0\n",
            "oauth2client                          4.1.3\n",
            "oauthlib                              3.3.1\n",
            "omegaconf                             2.3.0\n",
            "openai                                1.99.9\n",
            "opencv-contrib-python                 4.12.0.88\n",
            "opencv-python                         4.12.0.88\n",
            "opencv-python-headless                4.12.0.88\n",
            "openpyxl                              3.1.5\n",
            "opt_einsum                            3.4.0\n",
            "optax                                 0.2.5\n",
            "optree                                0.17.0\n",
            "orbax-checkpoint                      0.11.22\n",
            "orjson                                3.11.2\n",
            "osqp                                  1.0.4\n",
            "packaging                             25.0\n",
            "pandas                                2.2.2\n",
            "pandas-datareader                     0.10.0\n",
            "pandas-gbq                            0.29.2\n",
            "pandas-stubs                          2.2.2.240909\n",
            "pandocfilters                         1.5.1\n",
            "panel                                 1.7.5\n",
            "param                                 2.2.1\n",
            "parso                                 0.8.4\n",
            "parsy                                 2.1\n",
            "partd                                 1.4.2\n",
            "patsy                                 1.0.1\n",
            "peewee                                3.18.2\n",
            "peft                                  0.17.0\n",
            "pexpect                               4.9.0\n",
            "pickleshare                           0.7.5\n",
            "pillow                                11.3.0\n",
            "pip                                   24.1.2\n",
            "platformdirs                          4.3.8\n",
            "plotly                                5.24.1\n",
            "plotnine                              0.14.5\n",
            "pluggy                                1.6.0\n",
            "plum-dispatch                         2.5.7\n",
            "ply                                   3.11\n",
            "polars                                1.25.2\n",
            "pooch                                 1.8.2\n",
            "portpicker                            1.5.2\n",
            "preshed                               3.0.10\n",
            "prettytable                           3.16.0\n",
            "proglog                               0.1.12\n",
            "progressbar2                          4.5.0\n",
            "prometheus_client                     0.22.1\n",
            "promise                               2.3\n",
            "prompt_toolkit                        3.0.51\n",
            "propcache                             0.3.2\n",
            "prophet                               1.1.7\n",
            "proto-plus                            1.26.1\n",
            "protobuf                              5.29.5\n",
            "psutil                                5.9.5\n",
            "psycopg2                              2.9.10\n",
            "psygnal                               0.14.1\n",
            "ptyprocess                            0.7.0\n",
            "py-cpuinfo                            9.0.0\n",
            "py4j                                  0.10.9.7\n",
            "pyarrow                               18.1.0\n",
            "pyasn1                                0.6.1\n",
            "pyasn1_modules                        0.4.2\n",
            "pycairo                               1.28.0\n",
            "pycocotools                           2.0.10\n",
            "pycparser                             2.22\n",
            "pycryptodomex                         3.23.0\n",
            "pydantic                              2.11.7\n",
            "pydantic_core                         2.33.2\n",
            "pydata-google-auth                    1.9.1\n",
            "pydot                                 3.0.4\n",
            "pydotplus                             2.0.2\n",
            "PyDrive2                              1.21.3\n",
            "pydub                                 0.25.1\n",
            "pyerfa                                2.0.1.5\n",
            "pygame                                2.6.1\n",
            "pygit2                                1.18.1\n",
            "Pygments                              2.19.2\n",
            "PyGObject                             3.42.0\n",
            "PyJWT                                 2.10.1\n",
            "pylibcudf-cu12                        25.6.0\n",
            "pylibcugraph-cu12                     25.6.0\n",
            "pylibraft-cu12                        25.6.0\n",
            "pymc                                  5.25.1\n",
            "pynndescent                           0.5.13\n",
            "pynvjitlink-cu12                      0.7.0\n",
            "pynvml                                12.0.0\n",
            "pyogrio                               0.11.1\n",
            "pyomo                                 6.9.3\n",
            "PyOpenGL                              3.1.9\n",
            "pyOpenSSL                             24.2.1\n",
            "pyparsing                             3.2.3\n",
            "pyperclip                             1.9.0\n",
            "pyproj                                3.7.2\n",
            "pyproject_hooks                       1.2.0\n",
            "pyshp                                 2.3.1\n",
            "PySocks                               1.7.1\n",
            "pyspark                               3.5.1\n",
            "pytensor                              2.31.7\n",
            "pytest                                8.4.1\n",
            "python-apt                            0.0.0\n",
            "python-box                            7.3.2\n",
            "python-dateutil                       2.9.0.post0\n",
            "python-louvain                        0.16\n",
            "python-multipart                      0.0.20\n",
            "python-slugify                        8.0.4\n",
            "python-snappy                         0.7.3\n",
            "python-utils                          3.9.1\n",
            "pytz                                  2025.2\n",
            "pyviz_comms                           3.0.6\n",
            "PyWavelets                            1.9.0\n",
            "PyYAML                                6.0.2\n",
            "pyzmq                                 26.2.1\n",
            "raft-dask-cu12                        25.6.0\n",
            "rapids-dask-dependency                25.6.0\n",
            "rapids-logger                         0.1.1\n",
            "ratelim                               0.1.6\n",
            "referencing                           0.36.2\n",
            "regex                                 2024.11.6\n",
            "requests                              2.32.3\n",
            "requests-oauthlib                     2.0.0\n",
            "requests-toolbelt                     1.0.0\n",
            "requirements-parser                   0.9.0\n",
            "rich                                  13.9.4\n",
            "rmm-cu12                              25.6.0\n",
            "roman-numerals-py                     3.1.0\n",
            "rpds-py                               0.27.0\n",
            "rpy2                                  3.5.17\n",
            "rsa                                   4.9.1\n",
            "ruff                                  0.12.9\n",
            "safehttpx                             0.1.6\n",
            "safetensors                           0.6.2\n",
            "scikit-image                          0.25.2\n",
            "scikit-learn                          1.6.1\n",
            "scipy                                 1.16.1\n",
            "scooby                                0.10.1\n",
            "scs                                   3.2.8\n",
            "seaborn                               0.13.2\n",
            "SecretStorage                         3.3.3\n",
            "semantic-version                      2.10.0\n",
            "Send2Trash                            1.8.3\n",
            "sentence-transformers                 5.1.0\n",
            "sentencepiece                         0.2.1\n",
            "sentry-sdk                            2.35.0\n",
            "setuptools                            75.2.0\n",
            "shap                                  0.48.0\n",
            "shapely                               2.1.1\n",
            "shellingham                           1.5.4\n",
            "simple-parsing                        0.1.7\n",
            "simplejson                            3.20.1\n",
            "simsimd                               6.5.0\n",
            "six                                   1.17.0\n",
            "sklearn-pandas                        2.2.0\n",
            "slicer                                0.0.8\n",
            "smart_open                            7.3.0.post1\n",
            "smmap                                 5.0.2\n",
            "sniffio                               1.3.1\n",
            "snowballstemmer                       3.0.1\n",
            "sortedcontainers                      2.4.0\n",
            "soundfile                             0.13.1\n",
            "soupsieve                             2.7\n",
            "soxr                                  0.5.0.post1\n",
            "spacy                                 3.8.7\n",
            "spacy-legacy                          3.0.12\n",
            "spacy-loggers                         1.0.5\n",
            "spanner-graph-notebook                1.1.7\n",
            "Sphinx                                8.2.3\n",
            "sphinxcontrib-applehelp               2.0.0\n",
            "sphinxcontrib-devhelp                 2.0.0\n",
            "sphinxcontrib-htmlhelp                2.1.0\n",
            "sphinxcontrib-jsmath                  1.0.1\n",
            "sphinxcontrib-qthelp                  2.0.0\n",
            "sphinxcontrib-serializinghtml         2.0.0\n",
            "SQLAlchemy                            2.0.43\n",
            "sqlglot                               25.20.2\n",
            "sqlparse                              0.5.3\n",
            "srsly                                 2.5.1\n",
            "stanio                                0.5.1\n",
            "starlette                             0.47.2\n",
            "statsmodels                           0.14.5\n",
            "stringzilla                           3.12.6\n",
            "stumpy                                1.13.0\n",
            "sympy                                 1.13.3\n",
            "tables                                3.10.2\n",
            "tabulate                              0.9.0\n",
            "tbb                                   2022.2.0\n",
            "tblib                                 3.1.0\n",
            "tcmlib                                1.4.0\n",
            "tenacity                              9.1.2\n",
            "tensorboard                           2.19.0\n",
            "tensorboard-data-server               0.7.2\n",
            "tensorflow                            2.19.0\n",
            "tensorflow-datasets                   4.9.9\n",
            "tensorflow_decision_forests           1.12.0\n",
            "tensorflow-hub                        0.16.1\n",
            "tensorflow-metadata                   1.17.2\n",
            "tensorflow-probability                0.25.0\n",
            "tensorflow-text                       2.19.0\n",
            "tensorstore                           0.1.76\n",
            "termcolor                             3.1.0\n",
            "terminado                             0.18.1\n",
            "text-unidecode                        1.3\n",
            "textblob                              0.19.0\n",
            "tf_keras                              2.19.0\n",
            "tf-slim                               1.1.0\n",
            "thinc                                 8.3.6\n",
            "threadpoolctl                         3.6.0\n",
            "tifffile                              2025.6.11\n",
            "tiktoken                              0.11.0\n",
            "timm                                  1.0.19\n",
            "tinycss2                              1.4.0\n",
            "tokenizers                            0.21.4\n",
            "toml                                  0.10.2\n",
            "tomlkit                               0.13.3\n",
            "toolz                                 0.12.1\n",
            "torch                                 2.8.0+cu126\n",
            "torchao                               0.10.0\n",
            "torchaudio                            2.8.0+cu126\n",
            "torchdata                             0.11.0\n",
            "torchsummary                          1.5.1\n",
            "torchtune                             0.6.1\n",
            "torchvision                           0.23.0+cu126\n",
            "tornado                               6.4.2\n",
            "tqdm                                  4.67.1\n",
            "traitlets                             5.7.1\n",
            "traittypes                            0.2.1\n",
            "transformers                          4.55.2\n",
            "treelite                              4.4.1\n",
            "treescope                             0.1.10\n",
            "triton                                3.4.0\n",
            "tsfresh                               0.21.0\n",
            "tweepy                                4.16.0\n",
            "typeguard                             4.4.4\n",
            "typer                                 0.16.0\n",
            "types-pytz                            2025.2.0.20250809\n",
            "types-setuptools                      80.9.0.20250809\n",
            "typing_extensions                     4.14.1\n",
            "typing-inspection                     0.4.1\n",
            "tzdata                                2025.2\n",
            "tzlocal                               5.3.1\n",
            "uc-micro-py                           1.0.3\n",
            "ucx-py-cu12                           0.44.0\n",
            "ucxx-cu12                             0.44.0\n",
            "umap-learn                            0.5.9.post2\n",
            "umf                                   0.11.0\n",
            "uritemplate                           4.2.0\n",
            "urllib3                               2.5.0\n",
            "uvicorn                               0.35.0\n",
            "vega-datasets                         0.9.0\n",
            "wadllib                               1.3.6\n",
            "wandb                                 0.21.1\n",
            "wasabi                                1.1.3\n",
            "wcwidth                               0.2.13\n",
            "weasel                                0.4.1\n",
            "webcolors                             24.11.1\n",
            "webencodings                          0.5.1\n",
            "websocket-client                      1.8.0\n",
            "websockets                            15.0.1\n",
            "Werkzeug                              3.1.3\n",
            "wheel                                 0.45.1\n",
            "widgetsnbextension                    3.6.10\n",
            "wordcloud                             1.9.4\n",
            "wrapt                                 1.17.3\n",
            "wurlitzer                             3.1.1\n",
            "xarray                                2025.8.0\n",
            "xarray-einstats                       0.9.1\n",
            "xgboost                               3.0.4\n",
            "xlrd                                  2.0.2\n",
            "xxhash                                3.5.0\n",
            "xyzservices                           2025.4.0\n",
            "yarl                                  1.20.1\n",
            "ydf                                   0.13.0\n",
            "yellowbrick                           1.5\n",
            "yfinance                              0.2.65\n",
            "zict                                  3.0.0\n",
            "zipp                                  3.23.0\n",
            "zstandard                             0.23.0\n"
          ]
        }
      ]
    },
    {
      "cell_type": "markdown",
      "source": [
        "## 📦 Installing and importing"
      ],
      "metadata": {
        "id": "t5hbi-v6eouw"
      }
    },
    {
      "cell_type": "code",
      "source": [
        "!pip install pennylane --quiet"
      ],
      "metadata": {
        "id": "FXUqYcc74Q6F",
        "colab": {
          "base_uri": "https://localhost:8080/"
        },
        "outputId": "3b1c2de1-be65-4552-f97e-d5736e31f609"
      },
      "execution_count": 2,
      "outputs": [
        {
          "output_type": "stream",
          "name": "stdout",
          "text": [
            "\u001b[2K     \u001b[90m━━━━━━━━━━━━━━━━━━━━━━━━━━━━━━━━━━━━━━━━\u001b[0m \u001b[32m57.1/57.1 kB\u001b[0m \u001b[31m3.0 MB/s\u001b[0m eta \u001b[36m0:00:00\u001b[0m\n",
            "\u001b[2K   \u001b[90m━━━━━━━━━━━━━━━━━━━━━━━━━━━━━━━━━━━━━━━━\u001b[0m \u001b[32m4.8/4.8 MB\u001b[0m \u001b[31m23.8 MB/s\u001b[0m eta \u001b[36m0:00:00\u001b[0m\n",
            "\u001b[2K   \u001b[90m━━━━━━━━━━━━━━━━━━━━━━━━━━━━━━━━━━━━━━━━\u001b[0m \u001b[32m930.8/930.8 kB\u001b[0m \u001b[31m17.6 MB/s\u001b[0m eta \u001b[36m0:00:00\u001b[0m\n",
            "\u001b[2K   \u001b[90m━━━━━━━━━━━━━━━━━━━━━━━━━━━━━━━━━━━━━━━━\u001b[0m \u001b[32m2.6/2.6 MB\u001b[0m \u001b[31m37.8 MB/s\u001b[0m eta \u001b[36m0:00:00\u001b[0m\n",
            "\u001b[2K   \u001b[90m━━━━━━━━━━━━━━━━━━━━━━━━━━━━━━━━━━━━━━━━\u001b[0m \u001b[32m2.2/2.2 MB\u001b[0m \u001b[31m23.6 MB/s\u001b[0m eta \u001b[36m0:00:00\u001b[0m\n",
            "\u001b[2K   \u001b[90m━━━━━━━━━━━━━━━━━━━━━━━━━━━━━━━━━━━━━━━━\u001b[0m \u001b[32m167.9/167.9 kB\u001b[0m \u001b[31m7.5 MB/s\u001b[0m eta \u001b[36m0:00:00\u001b[0m\n",
            "\u001b[2K   \u001b[90m━━━━━━━━━━━━━━━━━━━━━━━━━━━━━━━━━━━━━━━━\u001b[0m \u001b[32m8.6/8.6 MB\u001b[0m \u001b[31m46.2 MB/s\u001b[0m eta \u001b[36m0:00:00\u001b[0m\n",
            "\u001b[?25h"
          ]
        }
      ]
    },
    {
      "cell_type": "code",
      "source": [
        "# Check pennylane version\n",
        "\n",
        "import pennylane as qml\n",
        "from pennylane import draw_mpl\n",
        "\n",
        "print(\"Pennylane version:\", qml.__version__)"
      ],
      "metadata": {
        "id": "g-V-w-5WehbJ",
        "colab": {
          "base_uri": "https://localhost:8080/"
        },
        "outputId": "607b6143-c155-44b0-e950-b7bf7e29c30f"
      },
      "execution_count": 3,
      "outputs": [
        {
          "output_type": "stream",
          "name": "stdout",
          "text": [
            "Pennylane version: 0.42.2\n"
          ]
        }
      ]
    },
    {
      "cell_type": "code",
      "source": [
        "import numpy as np\n",
        "import matplotlib.pyplot as plt\n",
        "import sys\n",
        "import matplotlib\n",
        "import scipy as sp\n",
        "import sympy as sy\n",
        "\n",
        "print(\"Python version:\", sys.version)\n",
        "print(\"Numpy version:\", np.__version__)\n",
        "print(\"Matplotlib version:\", matplotlib.__version__)\n",
        "print(\"Sympy version:\", sy.__version__)\n",
        "print(\"SciPy version:\", sp.__version__)"
      ],
      "metadata": {
        "colab": {
          "base_uri": "https://localhost:8080/"
        },
        "id": "rJh8yiqFOEhR",
        "outputId": "b8730df5-a8d6-46db-8204-8787f3c7e318"
      },
      "execution_count": 4,
      "outputs": [
        {
          "output_type": "stream",
          "name": "stdout",
          "text": [
            "Python version: 3.12.11 (main, Jun  4 2025, 08:56:18) [GCC 11.4.0]\n",
            "Numpy version: 2.0.2\n",
            "Matplotlib version: 3.10.0\n",
            "Sympy version: 1.13.3\n",
            "SciPy version: 1.16.1\n"
          ]
        }
      ]
    },
    {
      "cell_type": "markdown",
      "source": [
        "## Real Quantum Computers (QPUs) providers:"
      ],
      "metadata": {
        "id": "vaTuJjAhSVwD"
      }
    },
    {
      "cell_type": "markdown",
      "source": [
        "https://aws.amazon.com/braket/quantum-computers/\n",
        "\n",
        "https://learn.microsoft.com/en-us/azure/quantum/qc-target-list\n",
        "\n",
        "https://forge.qcware.com/ & https://forge.qcware.com/pricing/\n",
        "\n",
        "https://quantum.cloud.ibm.com/computers\n",
        "\n",
        "https://www.xanadu.ai/products/x-series\n",
        "\n",
        "https://www.dwavequantum.com/solutions-and-products/systems/\n",
        "\n",
        "https://www.quantinuum.com/products-solutions/quantinuum-systems\n",
        "\n",
        "**Devices and Quantum hardware PennyLane supports a wide range of quantum simulators and hardware devices**:   \n",
        "https://pennylane.ai/install"
      ],
      "metadata": {
        "id": "hx7Cw1wdvNJ0"
      }
    },
    {
      "cell_type": "markdown",
      "source": [
        "## I created some functions that are not built-in in PennyLane\n"
      ],
      "metadata": {
        "id": "NxiBzFk7eGui"
      }
    },
    {
      "cell_type": "code",
      "source": [
        "# This function is a quantum state pretty-printer that takes a state vector psi and displays\n",
        "# it in Dirac (ket) notation.\n",
        "\n",
        "def print_state_ket(psi, num_wires=None, precision=3, threshold=1e-10):\n",
        "    \"\"\"\n",
        "    Prints a quantum state vector in Dirac (ket) notation, showing each basis state's complex amplitude.\n",
        "\n",
        "    Args:\n",
        "        psi (array-like): State vector as a list or NumPy array of complex amplitudes.\n",
        "        num_wires (int or None): Number of qubits. If None, it is inferred from len(psi).\n",
        "        precision (int): Number of decimal places for real and imaginary parts.\n",
        "        threshold (float): Amplitudes with magnitude below this are omitted from the output.\n",
        "    \"\"\"\n",
        "    import numpy as np\n",
        "\n",
        "    psi = np.asarray(psi)\n",
        "    if num_wires is None:\n",
        "        num_wires = int(np.log2(len(psi)))\n",
        "        if 2 ** num_wires != len(psi):\n",
        "            raise ValueError(\"State length is not a power of 2. Cannot infer number of wires.\")\n",
        "\n",
        "    basis_states = [f\"|{i:0{num_wires}b}⟩\" for i in range(2 ** num_wires)]\n",
        "    terms = [\n",
        "        f\"({amp.real:+.{precision}f}{amp.imag:+.{precision}f}j){ket}\"\n",
        "        for amp, ket in zip(psi, basis_states)\n",
        "        if abs(amp) > threshold\n",
        "    ]\n",
        "    state_str = \" +\\n    \".join(terms) if terms else \"0\"\n",
        "    print(f\"|ψ⟩ = {state_str}\")"
      ],
      "metadata": {
        "id": "IHK1pFUZet7p"
      },
      "execution_count": 5,
      "outputs": []
    },
    {
      "cell_type": "code",
      "source": [
        "# Plots a histogram using Matplotlib\n",
        "\n",
        "def plot_probabilities(probs, n_bits, title=None):\n",
        "    \"\"\"Plot probabilities with ket notation on x-axis.\n",
        "\n",
        "    Args:\n",
        "        probs (array-like): Probability distribution (length 2**n_bits).\n",
        "        n_bits (int): Number of qubits.\n",
        "        title (str, optional): Custom plot title. If None, a default is used.\n",
        "    \"\"\"\n",
        "    # Generate ket-notation labels\n",
        "    basis_states = [f\"|{i:0{n_bits}b}⟩\" for i in range(2**n_bits)]\n",
        "\n",
        "    # Plot histogram\n",
        "    plt.figure(figsize=(12,6))  # wider figure\n",
        "    plt.bar(basis_states, probs, color=\"steelblue\", edgecolor=\"black\")\n",
        "    plt.xlabel(\"Basis state (ket)\")\n",
        "    plt.ylabel(\"Probability\")\n",
        "    if title:\n",
        "        plt.title(title)\n",
        "    else:\n",
        "        plt.title(f\"Probability Distribution for {n_bits}-qubit system\")\n",
        "    plt.xticks(rotation=45, ha=\"right\")  # angled labels for readability\n",
        "    plt.tight_layout()\n",
        "    plt.show()"
      ],
      "metadata": {
        "id": "rul8ktK2eUq0"
      },
      "execution_count": 6,
      "outputs": []
    },
    {
      "cell_type": "markdown",
      "source": [
        "## Resources for this mini-school:"
      ],
      "metadata": {
        "id": "aUDwC8EN7y4J"
      }
    },
    {
      "cell_type": "markdown",
      "source": [
        "https://pennylane.ai/codebook/learning-paths/foundations-of-quantum-computing\n",
        "\n",
        "https://pennylane.ai/codebook/pennylane-fundamentals\n",
        "\n",
        "<br>\n",
        "\n",
        "https://en.wikipedia.org/wiki/Complex_number     \n",
        "https://en.wikipedia.org/wiki/Logic_gate      \n",
        "https://en.wikipedia.org/wiki/Eigenvalues_and_eigenvectors#Matrix_examples\n",
        "https://en.wikipedia.org/wiki/Expectation_value_(quantum_mechanics)"
      ],
      "metadata": {
        "id": "AJ65n-Q_vT5q"
      }
    },
    {
      "cell_type": "markdown",
      "source": [
        "## Codercise I.1.5 — A simple quantum algorithm"
      ],
      "metadata": {
        "id": "AtjzqHQeSk5Z"
      }
    },
    {
      "cell_type": "code",
      "source": [
        "U = np.array([[1, 1], [1, -1]]) / np.sqrt(2)\n",
        "\n",
        "def initialize_state():\n",
        "    \"\"\"Prepare a qubit in state |0>.\n",
        "\n",
        "    Returns:\n",
        "        np.array[float]: the vector representation of state |0>.\n",
        "    \"\"\"\n",
        "\n",
        "    # PREPARE THE STATE |0>\n",
        "    return np.array([1, 0])\n",
        "\n",
        "def apply_u(state):\n",
        "    \"\"\"Apply a quantum operation.\"\"\"\n",
        "    return np.dot(U, state)\n",
        "\n",
        "def measure_state(state, num_meas):\n",
        "    \"\"\"Measure a quantum state num_meas times.\"\"\"\n",
        "    p_alpha = np.abs(state[0]) ** 2\n",
        "    p_beta = np.abs(state[1]) ** 2\n",
        "    meas_outcome = np.random.choice([0, 1], p=[p_alpha, p_beta], size=num_meas)\n",
        "    return meas_outcome\n",
        "\n",
        "def quantum_algorithm():\n",
        "    \"\"\"Use the functions above to implement the quantum algorithm described above.\n",
        "\n",
        "    Try and do so using three lines of code or less!\n",
        "\n",
        "    Returns:\n",
        "        np.array[int]: the measurement results after running the algorithm 100 times\n",
        "    \"\"\"\n",
        "\n",
        "    # PREPARE THE STATE, APPLY U, THEN TAKE 100 MEASUREMENT SAMPLES\n",
        "    state = initialize_state()\n",
        "    state = apply_u(state)\n",
        "    return measure_state(state, 1000)"
      ],
      "metadata": {
        "id": "1WTavucdSlph"
      },
      "execution_count": 7,
      "outputs": []
    },
    {
      "cell_type": "code",
      "source": [
        "print(quantum_algorithm())"
      ],
      "metadata": {
        "colab": {
          "base_uri": "https://localhost:8080/"
        },
        "id": "cpT7yj_yFe5Q",
        "outputId": "5509aeaa-cade-4e4a-b00e-4e8598f8f428"
      },
      "execution_count": 8,
      "outputs": [
        {
          "output_type": "stream",
          "name": "stdout",
          "text": [
            "[1 0 0 1 0 0 1 0 0 0 1 0 0 0 0 1 0 1 1 1 0 0 1 1 0 0 0 0 1 1 0 0 0 1 1 1 0\n",
            " 1 1 0 1 1 1 1 1 1 1 1 1 0 1 0 1 0 0 0 1 0 1 0 1 0 1 0 0 0 0 0 1 1 1 0 0 0\n",
            " 0 1 1 0 1 0 1 0 1 0 0 1 1 0 1 1 1 1 1 1 0 0 1 1 0 1 0 0 0 0 1 0 1 0 1 1 1\n",
            " 0 0 0 0 0 0 0 0 0 0 1 0 1 1 0 0 0 0 0 0 0 0 0 1 0 1 0 1 1 0 1 0 1 0 0 0 0\n",
            " 0 1 0 0 1 0 1 1 0 0 1 1 1 0 1 1 0 1 0 0 0 0 1 1 0 1 1 1 0 1 1 0 1 1 1 0 0\n",
            " 1 0 0 1 0 0 0 1 1 0 0 0 0 1 0 0 0 1 1 0 0 1 0 0 0 1 0 1 1 0 1 1 1 0 1 0 1\n",
            " 0 1 1 1 1 0 0 1 0 1 0 0 1 0 1 1 0 0 0 0 1 0 0 1 1 1 1 1 1 0 0 0 0 0 1 1 0\n",
            " 0 1 1 1 0 1 1 1 1 0 0 0 0 1 0 1 1 0 1 1 0 1 0 1 1 1 1 0 0 0 1 0 0 0 1 1 1\n",
            " 0 1 1 1 1 1 1 0 1 1 1 0 1 0 0 0 1 0 1 0 0 1 1 0 1 1 0 0 1 0 1 1 0 1 0 0 1\n",
            " 1 1 1 1 0 0 0 1 1 0 0 1 0 0 1 1 1 1 0 0 0 0 1 1 1 0 1 1 0 0 0 0 0 0 1 0 0\n",
            " 0 0 1 1 1 0 0 0 1 1 0 0 0 1 0 0 0 1 0 1 1 0 1 0 0 0 0 0 1 0 1 0 1 1 0 0 1\n",
            " 0 0 1 0 0 1 1 0 0 0 0 1 1 1 0 1 1 1 0 0 0 0 1 0 1 0 1 0 1 1 0 0 0 1 0 0 0\n",
            " 0 1 0 1 0 0 1 0 1 1 0 1 1 0 1 0 1 0 1 0 0 0 0 0 1 1 1 0 1 0 0 1 1 0 1 1 1\n",
            " 1 0 0 0 0 1 1 0 1 0 1 1 1 0 1 1 1 0 0 0 1 1 0 0 1 0 0 0 1 0 1 1 1 1 0 1 0\n",
            " 1 0 0 1 0 1 1 0 0 0 0 0 1 1 0 0 1 1 1 0 0 0 0 0 1 1 0 1 0 0 1 0 1 0 0 0 1\n",
            " 1 0 1 1 0 0 1 1 0 0 1 1 1 1 1 0 1 0 1 0 1 0 0 0 0 0 0 1 0 0 0 0 1 1 0 0 1\n",
            " 0 1 0 1 1 0 0 0 0 0 1 1 0 1 1 0 0 1 0 1 1 0 0 1 0 1 1 1 0 1 1 1 0 0 1 0 1\n",
            " 1 0 0 0 0 0 1 1 0 0 0 1 1 1 0 1 1 0 1 0 0 0 0 1 0 0 0 0 1 1 1 1 1 0 0 0 0\n",
            " 0 1 1 0 1 0 1 1 0 0 1 0 0 0 1 1 0 1 1 1 0 0 0 0 0 0 0 0 1 1 1 1 1 0 1 0 0\n",
            " 0 0 1 0 1 0 0 0 1 1 1 1 0 0 0 1 1 0 1 1 0 0 1 0 1 0 0 1 1 1 1 0 1 1 0 1 1\n",
            " 0 0 0 1 1 0 0 1 0 1 1 1 0 1 1 1 1 0 0 1 0 1 0 0 1 0 0 0 1 1 0 0 1 0 0 0 0\n",
            " 0 0 1 0 1 1 1 0 1 0 0 1 1 1 0 0 0 1 1 0 1 1 0 0 0 0 0 1 1 0 0 1 1 0 1 1 1\n",
            " 1 0 1 0 0 1 0 0 1 0 0 0 1 0 1 0 0 1 1 0 1 0 1 0 1 1 0 1 0 0 0 0 0 0 1 0 1\n",
            " 0 0 1 1 0 1 0 1 1 0 1 1 0 1 1 1 1 1 0 1 1 0 0 0 1 1 0 1 1 0 1 0 1 0 1 0 1\n",
            " 0 0 1 0 0 1 0 0 0 0 1 1 1 0 1 1 0 0 1 0 0 0 0 1 0 1 0 1 0 1 0 0 1 1 0 1 1\n",
            " 0 1 1 0 1 1 0 1 0 0 1 0 0 0 1 1 0 1 0 1 1 0 1 1 0 1 0 0 0 0 1 1 0 1 1 1 1\n",
            " 1 1 1 0 0 0 1 0 1 0 1 0 1 0 1 1 0 0 1 1 0 0 0 0 1 0 0 1 0 0 0 0 0 1 0 1 0\n",
            " 0]\n"
          ]
        }
      ]
    },
    {
      "cell_type": "code",
      "source": [
        "import collections\n",
        "results = quantum_algorithm()\n",
        "collections.Counter(results)"
      ],
      "metadata": {
        "colab": {
          "base_uri": "https://localhost:8080/"
        },
        "id": "yQgl9ohIHw9N",
        "outputId": "70f98dea-4539-4456-dc0d-f96cc4f60e15"
      },
      "execution_count": 9,
      "outputs": [
        {
          "output_type": "execute_result",
          "data": {
            "text/plain": [
              "Counter({np.int64(0): 489, np.int64(1): 511})"
            ]
          },
          "metadata": {},
          "execution_count": 9
        }
      ]
    },
    {
      "cell_type": "code",
      "source": [
        "counts = collections.Counter(results)\n",
        "\n",
        "# Calculate percentages\n",
        "total = sum(counts.values())\n",
        "percentages = {k: (v / total) * 100 for k, v in counts.items()}\n",
        "\n",
        "# Display results\n",
        "print(\"Counts:\", counts)\n",
        "print(\"Percentages:\", {k: f\"{v:.2f}%\" for k, v in percentages.items()})"
      ],
      "metadata": {
        "colab": {
          "base_uri": "https://localhost:8080/"
        },
        "id": "TdvwG-XcHw_g",
        "outputId": "9478649e-81db-4abe-d7f2-f202ad37d6a7"
      },
      "execution_count": 10,
      "outputs": [
        {
          "output_type": "stream",
          "name": "stdout",
          "text": [
            "Counts: Counter({np.int64(1): 511, np.int64(0): 489})\n",
            "Percentages: {np.int64(0): '48.90%', np.int64(1): '51.10%'}\n"
          ]
        }
      ]
    },
    {
      "cell_type": "code",
      "source": [
        "# Plot Histogram\n",
        "\n",
        "# Define Hadamard gate\n",
        "U = np.array([[1, 1], [1, -1]]) / np.sqrt(2)\n",
        "\n",
        "def initialize_state():\n",
        "    \"\"\"Prepare a qubit in state |0>.\"\"\"\n",
        "    return np.array([1, 0])\n",
        "\n",
        "def apply_u(state):\n",
        "    \"\"\"Apply the Hadamard gate.\"\"\"\n",
        "    return np.dot(U, state)\n",
        "\n",
        "def measure_state(state, num_meas):\n",
        "    \"\"\"Measure a quantum state num_meas times.\"\"\"\n",
        "    p_alpha = np.abs(state[0]) ** 2\n",
        "    p_beta = np.abs(state[1]) ** 2\n",
        "    return np.random.choice([0, 1], p=[p_alpha, p_beta], size=num_meas)\n",
        "\n",
        "def quantum_algorithm(num_shots=100):\n",
        "    \"\"\"Prepare |0>, apply H, then measure num_shots times.\"\"\"\n",
        "    state = initialize_state()\n",
        "    state = apply_u(state)\n",
        "    return measure_state(state, num_shots)\n",
        "\n",
        "# ---- Run and analyze ----\n",
        "num_shots = 1000  # increase for smoother histogram\n",
        "results = quantum_algorithm(num_shots)\n",
        "\n",
        "# Count occurrences\n",
        "counts = collections.Counter(results)\n",
        "\n",
        "# Calculate percentages\n",
        "total = sum(counts.values())\n",
        "percentages = {k: (v / total) * 100 for k, v in counts.items()}\n",
        "\n",
        "# Print results\n",
        "print(\"Counts:\", counts)\n",
        "print(\"Percentages:\", {k: f\"{v:.2f}%\" for k, v in percentages.items()})\n",
        "\n",
        "# Plot counts histogram\n",
        "labels = sorted(counts.keys())\n",
        "values = [counts[k] for k in labels]\n",
        "plt.bar(labels, values)\n",
        "plt.title(f\"Measurement Outcomes over {num_shots} shots\")\n",
        "plt.xlabel(\"Outcome\")\n",
        "plt.ylabel(\"Counts\")\n",
        "plt.xticks(labels)\n",
        "plt.show()"
      ],
      "metadata": {
        "colab": {
          "base_uri": "https://localhost:8080/",
          "height": 507
        },
        "id": "JFMunXy4NYic",
        "outputId": "7533b0af-44bf-498e-e53a-4f0e2f071e56"
      },
      "execution_count": 11,
      "outputs": [
        {
          "output_type": "stream",
          "name": "stdout",
          "text": [
            "Counts: Counter({np.int64(1): 507, np.int64(0): 493})\n",
            "Percentages: {np.int64(0): '49.30%', np.int64(1): '50.70%'}\n"
          ]
        },
        {
          "output_type": "display_data",
          "data": {
            "text/plain": [
              "<Figure size 640x480 with 1 Axes>"
            ],
            "image/png": "[encoded data removed]"
          },
          "metadata": {}
        }
      ]
    },
    {
      "cell_type": "code",
      "source": [
        "# Plot percentage histogram\n",
        "plt.bar(labels, [percentages[k] for k in labels])\n",
        "plt.title(f\"Measurement Outcome Percentages over {num_shots} shots\")\n",
        "plt.xlabel(\"Outcome\")\n",
        "plt.ylabel(\"Percentage (%)\")\n",
        "plt.xticks(labels)\n",
        "plt.show()"
      ],
      "metadata": {
        "colab": {
          "base_uri": "https://localhost:8080/",
          "height": 472
        },
        "id": "U6LOflUkZz7w",
        "outputId": "2185ae29-9552-4250-f6cd-1eae976926c4"
      },
      "execution_count": 12,
      "outputs": [
        {
          "output_type": "display_data",
          "data": {
            "text/plain": [
              "<Figure size 640x480 with 1 Axes>"
            ],
            "image/png": "[encoded data removed]"
          },
          "metadata": {}
        }
      ]
    },
    {
      "cell_type": "markdown",
      "source": [
        "## Most common ***Single-Qubit Gates & Multi-Qubit Gates + PennyLane measurements cheat sheet***.\n",
        "Tables as a reference!: (PennyLane includes a wide array of built-in gates to use):"
      ],
      "metadata": {
        "id": "hnKNf6-xAe50"
      }
    },
    {
      "cell_type": "markdown",
      "source": [
        "https://pennylane.ai/codebook/single-qubit-gates/prepare-yourself\n",
        "\n",
        "https://pennylane.ai/codebook/circuits-with-many-qubits/multi-qubit-challenge\n",
        "\n",
        "https://pennylane.ai/codebook/pennylane-fundamentals/quantum-operations\n",
        "\n",
        "https://pennylane.ai/codebook/pennylane-fundamentals/measurements-in-pennylane"
      ],
      "metadata": {
        "id": "6M_tcXXDZvg8"
      }
    },
    {
      "cell_type": "markdown",
      "source": [
        "## Codercise I.2.3 — The QNode decorator"
      ],
      "metadata": {
        "id": "T4nMYERmcpLt"
      }
    },
    {
      "cell_type": "code",
      "source": [
        "dev = qml.device(\"default.qubit\", wires=3)\n",
        "\n",
        "# decorate the function to turn it into a QNode\n",
        "@qml.qnode(dev)\n",
        "def my_circuit(theta, phi, omega):\n",
        "    qml.RX(theta, wires=0)\n",
        "    qml.RY(phi, wires=1)\n",
        "    qml.RZ(omega, wires=2)\n",
        "    qml.Barrier(wires=[0, 1, 2])  # The Barrier operator, used to separate the compilation process into blocks or as a visual tool.\n",
        "    qml.CNOT(wires=[0, 1])\n",
        "    qml.CNOT(wires=[1, 2])\n",
        "    qml.CNOT(wires=[2, 0])\n",
        "    qml.Barrier(wires=[0, 1, 2])\n",
        "    return qml.probs(wires=[0, 1, 2])\n",
        "\n",
        "# given parameters\n",
        "theta, phi, omega = 0.1, 0.2, 0.3"
      ],
      "metadata": {
        "id": "FmJ3db7EcrU9"
      },
      "execution_count": 13,
      "outputs": []
    },
    {
      "cell_type": "code",
      "source": [
        "# run the QNode\n",
        "# We have 3 qubits → 8 possible measurement outcomes:\n",
        "print(my_circuit(theta, phi, omega))"
      ],
      "metadata": {
        "colab": {
          "base_uri": "https://localhost:8080/"
        },
        "id": "VTzmOalgdG_-",
        "outputId": "a801af8a-0b1a-46de-ff21-1a61bf6ab16d"
      },
      "execution_count": 14,
      "outputs": [
        {
          "output_type": "stream",
          "name": "stdout",
          "text": [
            "[9.87560268e-01 0.00000000e+00 0.00000000e+00 2.47302134e-03\n",
            " 2.48960206e-05 0.00000000e+00 0.00000000e+00 9.94181506e-03]\n"
          ]
        }
      ]
    },
    {
      "cell_type": "code",
      "source": [
        "sy.Matrix(my_circuit(theta, phi, omega))"
      ],
      "metadata": {
        "colab": {
          "base_uri": "https://localhost:8080/",
          "height": 180
        },
        "id": "GWebzPqw5qRZ",
        "outputId": "50724ddd-64b8-4d40-9095-b839cbe455ed"
      },
      "execution_count": 15,
      "outputs": [
        {
          "output_type": "execute_result",
          "data": {
            "text/plain": [
              "Matrix([\n",
              "[  0.987560267580271],\n",
              "[                0.0],\n",
              "[                0.0],\n",
              "[0.00247302134034999],\n",
              "[2.48960206371239e-5],\n",
              "[                0.0],\n",
              "[                0.0],\n",
              "[0.00994181505874206]])"
            ],
            "text/latex": "$\\displaystyle \\left[\\begin{matrix}0.987560267580271\\\\0.0\\\\0.0\\\\0.00247302134034999\\\\2.48960206371239 \\cdot 10^{-5}\\\\0.0\\\\0.0\\\\0.00994181505874206\\end{matrix}\\right]$"
          },
          "metadata": {},
          "execution_count": 15
        }
      ]
    },
    {
      "cell_type": "code",
      "source": [
        "# run the QNode\n",
        "probs = my_circuit(theta, phi, omega)\n",
        "print()\n",
        "# check that they sum to 1\n",
        "print(\"Probabilities:\", probs)\n",
        "print()\n",
        "print(\"Sum of probabilities:\", sum(probs))\n",
        "print()\n",
        "print(\"Sum of probabilities:\", round(sum(probs), 7))"
      ],
      "metadata": {
        "colab": {
          "base_uri": "https://localhost:8080/"
        },
        "id": "bp4unm9lx693",
        "outputId": "17d1fb84-ea5d-463a-bab0-6638d303fe36"
      },
      "execution_count": 16,
      "outputs": [
        {
          "output_type": "stream",
          "name": "stdout",
          "text": [
            "\n",
            "Probabilities: [9.87560268e-01 0.00000000e+00 0.00000000e+00 2.47302134e-03\n",
            " 2.48960206e-05 0.00000000e+00 0.00000000e+00 9.94181506e-03]\n",
            "\n",
            "Sum of probabilities: 0.9999999999999999\n",
            "\n",
            "Sum of probabilities: 1.0\n"
          ]
        }
      ]
    },
    {
      "cell_type": "code",
      "source": [
        "print(qml.draw(my_circuit)(theta, phi, omega))"
      ],
      "metadata": {
        "colab": {
          "base_uri": "https://localhost:8080/"
        },
        "id": "huUe77FYdJKA",
        "outputId": "5ab3d0e5-5d43-4426-983b-925221cd9dac"
      },
      "execution_count": 17,
      "outputs": [
        {
          "output_type": "stream",
          "name": "stdout",
          "text": [
            "0: ──RX(0.10)─╭||─╭●────╭X─╭||─┤ ╭Probs\n",
            "1: ──RY(0.20)─├||─╰X─╭●─│──├||─┤ ├Probs\n",
            "2: ──RZ(0.30)─╰||────╰X─╰●─╰||─┤ ╰Probs\n"
          ]
        }
      ]
    },
    {
      "cell_type": "code",
      "source": [
        "fig, ax = qml.draw_mpl(my_circuit, decimals=3, style=\"pennylane\")(theta, phi, omega)\n",
        "plt.show()"
      ],
      "metadata": {
        "colab": {
          "base_uri": "https://localhost:8080/",
          "height": 436
        },
        "id": "su_pc1TJeWUZ",
        "outputId": "d74bfa99-51c8-468c-9d46-1b32d5d92b78"
      },
      "execution_count": 18,
      "outputs": [
        {
          "output_type": "display_data",
          "data": {
            "text/plain": [
              "<Figure size 900x400 with 1 Axes>"
            ],
            "image/png": "[encoded data removed]"
          },
          "metadata": {}
        }
      ]
    },
    {
      "cell_type": "code",
      "source": [
        "draw_mpl(my_circuit)(theta, phi, omega);"
      ],
      "metadata": {
        "colab": {
          "base_uri": "https://localhost:8080/",
          "height": 436
        },
        "id": "yJ4nQJLMdJMf",
        "outputId": "6cb96469-9ff1-42a1-9f5e-102343bef239"
      },
      "execution_count": 19,
      "outputs": [
        {
          "output_type": "display_data",
          "data": {
            "text/plain": [
              "<Figure size 900x400 with 1 Axes>"
            ],
            "image/png": "[encoded data removed]"
          },
          "metadata": {}
        }
      ]
    },
    {
      "cell_type": "code",
      "source": [
        "draw_mpl(my_circuit , style=\"pennylane\" )(theta, phi, omega);"
      ],
      "metadata": {
        "colab": {
          "base_uri": "https://localhost:8080/",
          "height": 436
        },
        "id": "YMAB9pRUeKsw",
        "outputId": "68aa13ff-c8b7-4209-8e09-7f71bec8438b"
      },
      "execution_count": 20,
      "outputs": [
        {
          "output_type": "display_data",
          "data": {
            "text/plain": [
              "<Figure size 900x400 with 1 Axes>"
            ],
            "image/png": "[encoded data removed]"
          },
          "metadata": {}
        }
      ]
    },
    {
      "cell_type": "markdown",
      "source": [
        "## Codercise I.3.1 — Unitaries in PennyLane"
      ],
      "metadata": {
        "id": "5xPc8VwT41RO"
      }
    },
    {
      "cell_type": "code",
      "source": [
        "# Applies a custom ** unitary matrix ** to specified qubit wires.\n",
        "\n",
        "dev = qml.device(\"default.qubit\", wires=1)\n",
        "\n",
        "U = np.array([[1, 1], [1, -1]]) / np.sqrt(2)\n",
        "\n",
        "\n",
        "@qml.qnode(dev)\n",
        "def apply_u():\n",
        "\n",
        "    # USE QubitUnitary TO APPLY U TO THE QUBIT\n",
        "    qml.QubitUnitary(U, wires=0)\n",
        "\n",
        "    # Return the state\n",
        "    return qml.state()"
      ],
      "metadata": {
        "id": "wIA-iyNw47qK"
      },
      "execution_count": 21,
      "outputs": []
    },
    {
      "cell_type": "code",
      "source": [
        "apply_u()"
      ],
      "metadata": {
        "colab": {
          "base_uri": "https://localhost:8080/"
        },
        "id": "w5iV605D47tJ",
        "outputId": "183d0469-08c5-487d-967d-cafa00850854"
      },
      "execution_count": 22,
      "outputs": [
        {
          "output_type": "execute_result",
          "data": {
            "text/plain": [
              "array([0.70710678+0.j, 0.70710678+0.j])"
            ]
          },
          "metadata": {},
          "execution_count": 22
        }
      ]
    },
    {
      "cell_type": "code",
      "source": [
        "sy.Matrix(apply_u())"
      ],
      "metadata": {
        "colab": {
          "base_uri": "https://localhost:8080/",
          "height": 58
        },
        "id": "Vistcot_59pi",
        "outputId": "e4714575-c871-45e0-fe5a-ae10bd018625"
      },
      "execution_count": 23,
      "outputs": [
        {
          "output_type": "execute_result",
          "data": {
            "text/plain": [
              "Matrix([\n",
              "[0.707106781186547],\n",
              "[0.707106781186547]])"
            ],
            "text/latex": "$\\displaystyle \\left[\\begin{matrix}0.707106781186547\\\\0.707106781186547\\end{matrix}\\right]$"
          },
          "metadata": {},
          "execution_count": 23
        }
      ]
    },
    {
      "cell_type": "code",
      "source": [
        "# let's check if U is unitary or not!\n",
        "\n",
        "U"
      ],
      "metadata": {
        "colab": {
          "base_uri": "https://localhost:8080/"
        },
        "id": "Fhj-crg_6fN1",
        "outputId": "3f92f82e-bb5c-4e1c-b137-adbed90ccbfb"
      },
      "execution_count": 24,
      "outputs": [
        {
          "output_type": "execute_result",
          "data": {
            "text/plain": [
              "array([[ 0.70710678,  0.70710678],\n",
              "       [ 0.70710678, -0.70710678]])"
            ]
          },
          "metadata": {},
          "execution_count": 24
        }
      ]
    },
    {
      "cell_type": "code",
      "source": [
        "U.conj().T"
      ],
      "metadata": {
        "colab": {
          "base_uri": "https://localhost:8080/"
        },
        "id": "ti1KxZna62YK",
        "outputId": "f187799c-4189-46d7-c485-7e5dd5682b69"
      },
      "execution_count": 25,
      "outputs": [
        {
          "output_type": "execute_result",
          "data": {
            "text/plain": [
              "array([[ 0.70710678,  0.70710678],\n",
              "       [ 0.70710678, -0.70710678]])"
            ]
          },
          "metadata": {},
          "execution_count": 25
        }
      ]
    },
    {
      "cell_type": "code",
      "source": [
        "U @ U.conj().T"
      ],
      "metadata": {
        "colab": {
          "base_uri": "https://localhost:8080/"
        },
        "id": "1QOkXoVh642C",
        "outputId": "785f8e86-7587-4100-8dc4-ec352c1e890f"
      },
      "execution_count": 26,
      "outputs": [
        {
          "output_type": "execute_result",
          "data": {
            "text/plain": [
              "array([[ 1.00000000e+00, -2.23711432e-17],\n",
              "       [-2.23711432e-17,  1.00000000e+00]])"
            ]
          },
          "metadata": {},
          "execution_count": 26
        }
      ]
    },
    {
      "cell_type": "code",
      "source": [
        "np.round(U @ U.conj().T, 10)"
      ],
      "metadata": {
        "colab": {
          "base_uri": "https://localhost:8080/"
        },
        "id": "bI-jqrNl6-6v",
        "outputId": "66f795c5-edd0-4959-f2d2-56bcdc1d48e7"
      },
      "execution_count": 27,
      "outputs": [
        {
          "output_type": "execute_result",
          "data": {
            "text/plain": [
              "array([[ 1., -0.],\n",
              "       [-0.,  1.]])"
            ]
          },
          "metadata": {},
          "execution_count": 27
        }
      ]
    },
    {
      "cell_type": "markdown",
      "source": [
        "## a simple example of Dirac (ket) notation representation of the state"
      ],
      "metadata": {
        "id": "Aa5mkvNY8zqf"
      }
    },
    {
      "cell_type": "markdown",
      "source": [
        "First Example:"
      ],
      "metadata": {
        "id": "nRnluf4v_w5Y"
      }
    },
    {
      "cell_type": "code",
      "source": [
        "dev = qml.device(\"default.qubit\", wires = 3)\n",
        "\n",
        "@qml.qnode(dev)\n",
        "def my_state_ket():\n",
        "    qml.Hadamard(wires = 0)\n",
        "    qml.Hadamard(wires = 1)\n",
        "    qml.Hadamard(wires = 2)\n",
        "\n",
        "    return qml.state()"
      ],
      "metadata": {
        "id": "agQh9Jgn7a_w"
      },
      "execution_count": 28,
      "outputs": []
    },
    {
      "cell_type": "code",
      "source": [
        "state = my_state_ket()"
      ],
      "metadata": {
        "id": "DUdO0wX49O21"
      },
      "execution_count": 29,
      "outputs": []
    },
    {
      "cell_type": "code",
      "source": [
        "print(\"My State vector is:\", state)"
      ],
      "metadata": {
        "colab": {
          "base_uri": "https://localhost:8080/"
        },
        "id": "AMPx1dU19WUB",
        "outputId": "beb68765-661b-46bf-e411-a271b31c2e15"
      },
      "execution_count": 30,
      "outputs": [
        {
          "output_type": "stream",
          "name": "stdout",
          "text": [
            "My State vector is: [0.35355339+0.j 0.35355339+0.j 0.35355339+0.j 0.35355339+0.j\n",
            " 0.35355339+0.j 0.35355339+0.j 0.35355339+0.j 0.35355339+0.j]\n"
          ]
        }
      ]
    },
    {
      "cell_type": "code",
      "source": [
        "sy.Matrix(state)"
      ],
      "metadata": {
        "colab": {
          "base_uri": "https://localhost:8080/",
          "height": 180
        },
        "id": "g79TcF3F6L88",
        "outputId": "cbf83a43-4d88-44f6-e7aa-d14daca4eb19"
      },
      "execution_count": 31,
      "outputs": [
        {
          "output_type": "execute_result",
          "data": {
            "text/plain": [
              "Matrix([\n",
              "[0.353553390593274],\n",
              "[0.353553390593274],\n",
              "[0.353553390593274],\n",
              "[0.353553390593274],\n",
              "[0.353553390593274],\n",
              "[0.353553390593274],\n",
              "[0.353553390593274],\n",
              "[0.353553390593274]])"
            ],
            "text/latex": "$\\displaystyle \\left[\\begin{matrix}0.353553390593274\\\\0.353553390593274\\\\0.353553390593274\\\\0.353553390593274\\\\0.353553390593274\\\\0.353553390593274\\\\0.353553390593274\\\\0.353553390593274\\end{matrix}\\right]$"
          },
          "metadata": {},
          "execution_count": 31
        }
      ]
    },
    {
      "cell_type": "code",
      "source": [
        "print_state_ket(state)"
      ],
      "metadata": {
        "colab": {
          "base_uri": "https://localhost:8080/"
        },
        "id": "cmh2Jyju9azh",
        "outputId": "cbdda93d-914d-4c45-d8e5-62c2a65be5fe"
      },
      "execution_count": 32,
      "outputs": [
        {
          "output_type": "stream",
          "name": "stdout",
          "text": [
            "|ψ⟩ = (+0.354+0.000j)|000⟩ +\n",
            "    (+0.354+0.000j)|001⟩ +\n",
            "    (+0.354+0.000j)|010⟩ +\n",
            "    (+0.354+0.000j)|011⟩ +\n",
            "    (+0.354+0.000j)|100⟩ +\n",
            "    (+0.354+0.000j)|101⟩ +\n",
            "    (+0.354+0.000j)|110⟩ +\n",
            "    (+0.354+0.000j)|111⟩\n"
          ]
        }
      ]
    },
    {
      "cell_type": "code",
      "source": [
        "# infer number of qubits and make |...⟩ labels\n",
        "num_wires = int(np.log2(len(state)))\n",
        "labels = [f\"|{i:0{num_wires}b}⟩\" for i in range(2**num_wires)]\n",
        "\n",
        "# probabilities\n",
        "probs = np.abs(state)**2\n",
        "\n",
        "# bar chart with ket notation on x-axis\n",
        "plt.bar(labels, probs)\n",
        "plt.xlabel(\"Basis state (ket)\")\n",
        "plt.ylabel(\"Probability\")\n",
        "plt.title(\"Measurement outcome probabilities\")\n",
        "plt.xticks(rotation=45)\n",
        "plt.ylim(0, 1)  # optional\n",
        "plt.tight_layout()\n",
        "plt.show()"
      ],
      "metadata": {
        "colab": {
          "base_uri": "https://localhost:8080/",
          "height": 487
        },
        "id": "fgdcwleZBIy1",
        "outputId": "77b61857-93df-42ff-fb26-8b4f30a00942"
      },
      "execution_count": 33,
      "outputs": [
        {
          "output_type": "display_data",
          "data": {
            "text/plain": [
              "<Figure size 640x480 with 1 Axes>"
            ],
            "image/png": "[encoded data removed]"
          },
          "metadata": {}
        }
      ]
    },
    {
      "cell_type": "markdown",
      "source": [
        "---\n",
        "---"
      ],
      "metadata": {
        "id": "Ka-Ga-876fu2"
      }
    },
    {
      "cell_type": "markdown",
      "source": [
        "##Second example: The famous GHZ (Greenberger–Horne–Zeilinger) state\n",
        "https://en.wikipedia.org/wiki/Greenberger%E2%80%93Horne%E2%80%93Zeilinger_state"
      ],
      "metadata": {
        "id": "2I628joDwjQ3"
      }
    },
    {
      "cell_type": "markdown",
      "source": [
        "GHZ State Derivation for `H(0) → CNOT(0→1) → CNOT(1→2)`\n",
        "\n",
        "We label qubits by wire index and write basis states as $|q_0\\,q_1\\,q_2\\rangle$.  \n",
        "Initial state (PennyLane default): $|\\psi_0\\rangle = |000\\rangle$.\n",
        "\n",
        "---\n",
        "\n",
        "### 1) Apply $H$ on wire 0\n",
        "Using $H|0\\rangle = \\frac{|0\\rangle+|1\\rangle}{\\sqrt{2}}$,\n",
        "\n",
        "$$\n",
        "|\\psi_1\\rangle\n",
        "= \\left(\\frac{|0\\rangle_0 + |1\\rangle_0}{\\sqrt{2}}\\right)|0\\rangle_1|0\\rangle_2\n",
        "= \\frac{|000\\rangle + |100\\rangle}{\\sqrt{2}}.\n",
        "$$\n",
        "\n",
        "---\n",
        "\n",
        "### 2) Apply $\\mathrm{CNOT}(0\\!\\to\\!1)$\n",
        "Control $q_0$, target $q_1$. Flip $q_1$ iff $q_0=1$:\n",
        "\n",
        "$$\n",
        "|000\\rangle \\mapsto |000\\rangle, \\quad\n",
        "|100\\rangle \\mapsto |110\\rangle.\n",
        "$$\n",
        "\n",
        "So,\n",
        "$$\n",
        "|\\psi_2\\rangle = \\frac{|000\\rangle + |110\\rangle}{\\sqrt{2}}.\n",
        "$$\n",
        "\n",
        "---\n",
        "\n",
        "### 3) Apply $\\mathrm{CNOT}(1\\!\\to\\!2)$\n",
        "Control $q_1$, target $q_2$. Flip $q_2$ iff $q_1=1$:\n",
        "\n",
        "$$\n",
        "|000\\rangle \\mapsto |000\\rangle \\quad (q_1=0),\n",
        "\\quad\n",
        "|110\\rangle \\mapsto |111\\rangle \\quad (q_1=1).\n",
        "$$\n",
        "\n",
        "Thus,\n",
        "$$\n",
        "|\\psi_{\\text{final}}\\rangle = \\frac{|000\\rangle + |111\\rangle}{\\sqrt{2}}.\n",
        "$$\n",
        "\n",
        "---\n",
        "\n",
        "### Result (GHZ State)\n",
        "\n",
        "$$\n",
        "|\\mathrm{GHZ}_3\\rangle = \\frac{|000\\rangle + |111\\rangle}{\\sqrt{2}}\n",
        "$$"
      ],
      "metadata": {
        "id": "Mv_Kmv9Tajxg"
      }
    },
    {
      "cell_type": "code",
      "source": [
        "dev = qml.device(\"default.qubit\", wires=3)\n",
        "\n",
        "@qml.qnode(dev)\n",
        "def my_state_ket_2():\n",
        "    qml.Hadamard(wires=0)\n",
        "    qml.CNOT(wires=[0, 1])\n",
        "    qml.CNOT(wires=[1, 2])\n",
        "\n",
        "    # Return both probabilities and state\n",
        "    return qml.probs(wires=range(3)), qml.state()\n",
        "\n",
        "# Run the circuit\n",
        "probs, state = my_state_ket_2()\n",
        "\n",
        "print(\"State vector:\", state)\n",
        "print()\n",
        "print(\"Probabilities:\", probs)"
      ],
      "metadata": {
        "colab": {
          "base_uri": "https://localhost:8080/"
        },
        "id": "VzVHObY5i24a",
        "outputId": "8564f13f-2c97-4c04-faf1-e22abdd4a16a"
      },
      "execution_count": 34,
      "outputs": [
        {
          "output_type": "stream",
          "name": "stdout",
          "text": [
            "State vector: [0.70710678+0.j 0.        +0.j 0.        +0.j 0.        +0.j\n",
            " 0.        +0.j 0.        +0.j 0.        +0.j 0.70710678+0.j]\n",
            "\n",
            "Probabilities: [0.5 0.  0.  0.  0.  0.  0.  0.5]\n"
          ]
        }
      ]
    },
    {
      "cell_type": "code",
      "source": [
        "dev = qml.device(\"default.qubit\", wires = 3)\n",
        "\n",
        "@qml.qnode(dev)\n",
        "def my_state_ket_2():\n",
        "    qml.Hadamard(wires = 0)\n",
        "    qml.CNOT(wires = [0, 1])\n",
        "    qml.CNOT(wires = [1, 2])\n",
        "\n",
        "    return qml.state()"
      ],
      "metadata": {
        "id": "BSIb3gih99cS"
      },
      "execution_count": 35,
      "outputs": []
    },
    {
      "cell_type": "code",
      "source": [
        "state2 = my_state_ket_2()    # Complex amplitudes\n",
        "print(\"My State vector is:\", state2)"
      ],
      "metadata": {
        "colab": {
          "base_uri": "https://localhost:8080/"
        },
        "id": "ATqHBp-y-XQe",
        "outputId": "684136f3-b690-4fc9-d51c-f9f7a7580ab4"
      },
      "execution_count": 36,
      "outputs": [
        {
          "output_type": "stream",
          "name": "stdout",
          "text": [
            "My State vector is: [0.70710678+0.j 0.        +0.j 0.        +0.j 0.        +0.j\n",
            " 0.        +0.j 0.        +0.j 0.        +0.j 0.70710678+0.j]\n"
          ]
        }
      ]
    },
    {
      "cell_type": "code",
      "source": [
        "print_state_ket(state2)"
      ],
      "metadata": {
        "colab": {
          "base_uri": "https://localhost:8080/"
        },
        "id": "8kH0JFsD-XZ4",
        "outputId": "deaa5462-f9f7-4dc2-9d35-b72fe392bb1b"
      },
      "execution_count": 37,
      "outputs": [
        {
          "output_type": "stream",
          "name": "stdout",
          "text": [
            "|ψ⟩ = (+0.707+0.000j)|000⟩ +\n",
            "    (+0.707+0.000j)|111⟩\n"
          ]
        }
      ]
    },
    {
      "cell_type": "code",
      "source": [
        "# Number of qubits and ket labels\n",
        "num_wires = int(np.log2(len(state2)))\n",
        "labels = [f\"|{i:0{num_wires}b}⟩\" for i in range(2**num_wires)]\n",
        "\n",
        "# Compute probabilities\n",
        "probs = np.abs(state2)**2\n",
        "\n",
        "# Plot histogram\n",
        "plt.bar(labels, probs)\n",
        "plt.xlabel(\"Basis state (ket)\")\n",
        "plt.ylabel(\"Probability\")\n",
        "plt.title(\"Measurement outcome probabilities for GHZ circuit\")\n",
        "plt.ylim(0, 1)\n",
        "plt.show()"
      ],
      "metadata": {
        "colab": {
          "base_uri": "https://localhost:8080/",
          "height": 472
        },
        "id": "tloX7BUA_Roh",
        "outputId": "4d6bb5a3-8ed0-4f82-846d-2b630b97cffb"
      },
      "execution_count": 38,
      "outputs": [
        {
          "output_type": "display_data",
          "data": {
            "text/plain": [
              "<Figure size 640x480 with 1 Axes>"
            ],
            "image/png": "[encoded data removed]"
          },
          "metadata": {}
        }
      ]
    },
    {
      "cell_type": "markdown",
      "source": [
        "## Codercise A.1.1 — Create a uniform superposition"
      ],
      "metadata": {
        "id": "QqEBoVRbabei"
      }
    },
    {
      "cell_type": "code",
      "source": [
        "n_bits = 4\n",
        "dev = qml.device(\"default.qubit\", wires=n_bits)\n",
        "\n",
        "@qml.qnode(dev)\n",
        "def naive_circuit():\n",
        "    \"\"\"Create a uniform superposition and return the probabilities.\n",
        "\n",
        "    Returns:\n",
        "        array[float]: Probabilities for observing different outcomes.\n",
        "    \"\"\"\n",
        "    for wire in range(n_bits):\n",
        "        qml.Hadamard(wires=wire)   # Apply Hadamard to each qubit\n",
        "\n",
        "    return qml.probs(wires=range(n_bits))"
      ],
      "metadata": {
        "id": "bsWkdt0LacGA"
      },
      "execution_count": 39,
      "outputs": []
    },
    {
      "cell_type": "code",
      "source": [
        "# Run the circuit\n",
        "probs = naive_circuit()\n",
        "print(probs)"
      ],
      "metadata": {
        "colab": {
          "base_uri": "https://localhost:8080/"
        },
        "id": "WpvL_-p67CV3",
        "outputId": "003a3527-9070-452b-999c-385987df29f0"
      },
      "execution_count": 40,
      "outputs": [
        {
          "output_type": "stream",
          "name": "stdout",
          "text": [
            "[0.0625 0.0625 0.0625 0.0625 0.0625 0.0625 0.0625 0.0625 0.0625 0.0625\n",
            " 0.0625 0.0625 0.0625 0.0625 0.0625 0.0625]\n"
          ]
        }
      ]
    },
    {
      "cell_type": "code",
      "source": [
        "@qml.qnode(dev)\n",
        "def naive_circuit_state():\n",
        "    \"\"\"Create a uniform superposition and return the probabilities.\n",
        "\n",
        "    Returns:\n",
        "        array[float]: State\n",
        "    \"\"\"\n",
        "    for wire in range(n_bits):\n",
        "        qml.Hadamard(wires=wire)   # Apply Hadamard to each qubit\n",
        "\n",
        "    return qml.state()"
      ],
      "metadata": {
        "id": "XRZ2QsFj6-1I"
      },
      "execution_count": 41,
      "outputs": []
    },
    {
      "cell_type": "code",
      "source": [
        "state = naive_circuit_state()\n",
        "print(state)"
      ],
      "metadata": {
        "colab": {
          "base_uri": "https://localhost:8080/"
        },
        "id": "jipE5w4Yah-W",
        "outputId": "0c539cfb-0210-491c-a15f-601c28e032c9"
      },
      "execution_count": 42,
      "outputs": [
        {
          "output_type": "stream",
          "name": "stdout",
          "text": [
            "[0.25+0.j 0.25+0.j 0.25+0.j 0.25+0.j 0.25+0.j 0.25+0.j 0.25+0.j 0.25+0.j\n",
            " 0.25+0.j 0.25+0.j 0.25+0.j 0.25+0.j 0.25+0.j 0.25+0.j 0.25+0.j 0.25+0.j]\n"
          ]
        }
      ]
    },
    {
      "cell_type": "code",
      "source": [
        "# Run the circuit\n",
        "probs = naive_circuit()\n",
        "\n",
        "# Plot with the new function\n",
        "plot_probabilities(probs, 4, title=\"Uniform Superposition for 4 qubits\")"
      ],
      "metadata": {
        "colab": {
          "base_uri": "https://localhost:8080/",
          "height": 607
        },
        "id": "67OzPhVMdLGK",
        "outputId": "eea93526-1a33-41de-ae3a-ebb0657c3402"
      },
      "execution_count": 43,
      "outputs": [
        {
          "output_type": "display_data",
          "data": {
            "text/plain": [
              "<Figure size 1200x600 with 1 Axes>"
            ],
            "image/png": "[encoded data removed]"
          },
          "metadata": {}
        }
      ]
    },
    {
      "cell_type": "markdown",
      "source": [
        "---\n",
        "---"
      ],
      "metadata": {
        "id": "e_4obFhs7V60"
      }
    },
    {
      "cell_type": "markdown",
      "source": [
        "## Measurements in PennyLane\n",
        "https://pennylane.ai/codebook/pennylane-fundamentals/measurements-in-pennylane"
      ],
      "metadata": {
        "id": "gIPt43ZB8RAh"
      }
    },
    {
      "cell_type": "code",
      "source": [
        "# Samples\n",
        "\n",
        "dev = qml.device(\"default.qubit\", wires = 1, shots = 20)\n",
        "\n",
        "@qml.qnode(dev)\n",
        "def circuit():\n",
        "    qml.Hadamard(wires = 0)\n",
        "    return qml.sample()\n",
        "print(circuit())"
      ],
      "metadata": {
        "colab": {
          "base_uri": "https://localhost:8080/"
        },
        "id": "YlymIzBI8eac",
        "outputId": "dd324c58-2c9f-4652-c9f1-add18b155df6"
      },
      "execution_count": 44,
      "outputs": [
        {
          "output_type": "stream",
          "name": "stdout",
          "text": [
            "[1 1 0 1 1 0 1 1 1 0 0 1 0 1 1 1 0 0 0 1]\n"
          ]
        }
      ]
    },
    {
      "cell_type": "code",
      "source": [
        "# Counts\n",
        "\n",
        "dev = qml.device(\"default.qubit\", wires = 2, shots = 1000)\n",
        "\n",
        "@qml.qnode(dev)\n",
        "def circuit_counts():\n",
        "    qml.Hadamard(wires = 0)\n",
        "    qml.Hadamard(wires = 1)\n",
        "    return qml.counts()\n",
        "print(circuit_counts())"
      ],
      "metadata": {
        "colab": {
          "base_uri": "https://localhost:8080/"
        },
        "id": "jzp6JWVw8emD",
        "outputId": "9e41f15c-0419-42a5-e3e8-263e9d921541"
      },
      "execution_count": 45,
      "outputs": [
        {
          "output_type": "stream",
          "name": "stdout",
          "text": [
            "{np.str_('00'): np.int64(250), np.str_('01'): np.int64(258), np.str_('10'): np.int64(234), np.str_('11'): np.int64(258)}\n"
          ]
        }
      ]
    },
    {
      "cell_type": "code",
      "source": [
        "# Probabilities\n",
        "\n",
        "dev = qml.device(\"default.qubit\", wires = 2) # No shots means analytical calculation\n",
        "\n",
        "@qml.qnode(dev)\n",
        "def simple_circuit():\n",
        "\n",
        "    qml.Hadamard(wires = 0)\n",
        "    qml.Hadamard(wires = 1)\n",
        "\n",
        "    return qml.probs() # Computational basis measurement"
      ],
      "metadata": {
        "id": "V1-qgNfF9H3b"
      },
      "execution_count": 46,
      "outputs": []
    },
    {
      "cell_type": "code",
      "source": [
        "simple_circuit()"
      ],
      "metadata": {
        "colab": {
          "base_uri": "https://localhost:8080/"
        },
        "id": "f7KDOIZk9IBp",
        "outputId": "376ab381-e58e-46bb-e437-74919b06dbf7"
      },
      "execution_count": 47,
      "outputs": [
        {
          "output_type": "execute_result",
          "data": {
            "text/plain": [
              "array([0.25, 0.25, 0.25, 0.25])"
            ]
          },
          "metadata": {},
          "execution_count": 47
        }
      ]
    },
    {
      "cell_type": "code",
      "source": [
        "# State\n",
        "\n",
        "dev = qml.device(\"default.qubit\", wires = 2) # No shots means analytical calculation\n",
        "\n",
        "@qml.qnode(dev)\n",
        "def simple_circuit():\n",
        "\n",
        "    qml.Hadamard(wires = 0)\n",
        "    qml.Hadamard(wires = 1)\n",
        "\n",
        "    return qml.state() # Computational basis measurement"
      ],
      "metadata": {
        "id": "uvnULX929bGF"
      },
      "execution_count": 48,
      "outputs": []
    },
    {
      "cell_type": "code",
      "source": [
        "simple_circuit()"
      ],
      "metadata": {
        "colab": {
          "base_uri": "https://localhost:8080/"
        },
        "id": "9Z7MqbSp9xiE",
        "outputId": "4a55981e-9a4e-4827-8e87-3f3d5d6fcd65"
      },
      "execution_count": 49,
      "outputs": [
        {
          "output_type": "execute_result",
          "data": {
            "text/plain": [
              "array([0.5+0.j, 0.5+0.j, 0.5+0.j, 0.5+0.j])"
            ]
          },
          "metadata": {},
          "execution_count": 49
        }
      ]
    },
    {
      "cell_type": "code",
      "source": [
        "sy.Matrix(simple_circuit())"
      ],
      "metadata": {
        "colab": {
          "base_uri": "https://localhost:8080/",
          "height": 98
        },
        "id": "oSfkO5zl95Yg",
        "outputId": "63953403-54e9-4fde-d165-584b532d5a9c"
      },
      "execution_count": 50,
      "outputs": [
        {
          "output_type": "execute_result",
          "data": {
            "text/plain": [
              "Matrix([\n",
              "[0.5],\n",
              "[0.5],\n",
              "[0.5],\n",
              "[0.5]])"
            ],
            "text/latex": "$\\displaystyle \\left[\\begin{matrix}0.5\\\\0.5\\\\0.5\\\\0.5\\end{matrix}\\right]$"
          },
          "metadata": {},
          "execution_count": 50
        }
      ]
    },
    {
      "cell_type": "code",
      "source": [
        "print_state_ket(simple_circuit())"
      ],
      "metadata": {
        "colab": {
          "base_uri": "https://localhost:8080/"
        },
        "id": "yR3K1of999ne",
        "outputId": "6a709d12-05a8-4b1d-8a48-88fe8b33dfc4"
      },
      "execution_count": 51,
      "outputs": [
        {
          "output_type": "stream",
          "name": "stdout",
          "text": [
            "|ψ⟩ = (+0.500+0.000j)|00⟩ +\n",
            "    (+0.500+0.000j)|01⟩ +\n",
            "    (+0.500+0.000j)|10⟩ +\n",
            "    (+0.500+0.000j)|11⟩\n"
          ]
        }
      ]
    },
    {
      "cell_type": "markdown",
      "source": [
        "## Quantum Teleportation\n",
        "https://pennylane.ai/qml/demos/tutorial_teleportation\n",
        "\n",
        "https://quantum.country/teleportation\n",
        "<br>\n",
        "\n",
        "Quantum state preparation\n",
        "https://pennylane.ai/codebook/pennylane-fundamentals/quantum-operations\n",
        "qml.StatePrep    \n",
        "<br>\n",
        "qml.cond(condition, op)(*args) applies the quantum operation \"op\"\n",
        "only if the given classical measurement condition is satisfied.\n",
        "https://docs.pennylane.ai/en/stable/code/api/pennylane.cond.html#pennylane.cond   "
      ],
      "metadata": {
        "id": "TeD4evhtuzIf"
      }
    },
    {
      "cell_type": "code",
      "source": [
        "dev = qml.device(\"default.qubit\", wires=[\"S\", \"A\", \"B\"])"
      ],
      "metadata": {
        "id": "7tx5ffCt2T05"
      },
      "execution_count": 52,
      "outputs": []
    },
    {
      "cell_type": "code",
      "source": [
        "# state_preparation puts Alice’s source qubit S in the unknown state\n",
        "\n",
        "def state_preparation(state):\n",
        "    qml.StatePrep(state, wires=[\"S\"])"
      ],
      "metadata": {
        "id": "GaUHiJBqoxKh"
      },
      "execution_count": 53,
      "outputs": []
    },
    {
      "cell_type": "code",
      "source": [
        "# entangle_qubits creates an EPR pair between A and B (H on A, then CNOT A→B).\n",
        "\n",
        "def entangle_qubits():\n",
        "    qml.Hadamard(wires=\"A\")\n",
        "    qml.CNOT(wires=[\"A\", \"B\"])"
      ],
      "metadata": {
        "id": "KGeDngLPu53V"
      },
      "execution_count": 54,
      "outputs": []
    },
    {
      "cell_type": "code",
      "source": [
        "# basis_rotation performs the Bell-basis measurement step on S and A (CNOT S→A, H on S).\n",
        "\n",
        "def basis_rotation():\n",
        "    qml.CNOT(wires=[\"S\", \"A\"])\n",
        "    qml.Hadamard(wires=\"S\")"
      ],
      "metadata": {
        "id": "GCXyVkuYu552"
      },
      "execution_count": 55,
      "outputs": []
    },
    {
      "cell_type": "code",
      "source": [
        "# measure_and_update measures S and A, then applies the classical corrections on B:\n",
        "# apply X if  𝑚1 = 1 and Z if 𝑚0 = 1.\n",
        "\n",
        "def measure_and_update():\n",
        "    m0 = qml.measure(\"S\")\n",
        "    m1 = qml.measure(\"A\")\n",
        "    qml.cond(m1, qml.PauliX)(\"B\")\n",
        "    qml.cond(m0, qml.PauliZ)(\"B\")"
      ],
      "metadata": {
        "id": "vbtZCczfu58d"
      },
      "execution_count": 56,
      "outputs": []
    },
    {
      "cell_type": "code",
      "source": [
        "@qml.qnode(dev)\n",
        "\n",
        "def teleport(state):\n",
        "    state_preparation(state)\n",
        "    qml.Barrier()\n",
        "    entangle_qubits()\n",
        "    qml.Barrier()\n",
        "    basis_rotation()\n",
        "    qml.Barrier()\n",
        "    measure_and_update()"
      ],
      "metadata": {
        "id": "G7G2lnYXy9cp"
      },
      "execution_count": 57,
      "outputs": []
    },
    {
      "cell_type": "code",
      "source": [
        "state = np.array([1 / np.sqrt(2) + 0.3j, 0.4 - 0.5j])\n",
        "sy.Matrix(state)"
      ],
      "metadata": {
        "colab": {
          "base_uri": "https://localhost:8080/",
          "height": 58
        },
        "id": "nJZJS0SozOQg",
        "outputId": "9b16f974-c8b9-4510-842f-13572c4f6cdc"
      },
      "execution_count": 58,
      "outputs": [
        {
          "output_type": "execute_result",
          "data": {
            "text/plain": [
              "Matrix([\n",
              "[0.707106781186547 + 0.3*I],\n",
              "[              0.4 - 0.5*I]])"
            ],
            "text/latex": "$\\displaystyle \\left[\\begin{matrix}0.707106781186547 + 0.3 i\\\\0.4 - 0.5 i\\end{matrix}\\right]$"
          },
          "metadata": {},
          "execution_count": 58
        }
      ]
    },
    {
      "cell_type": "code",
      "source": [
        "_ = qml.draw_mpl(teleport, style=\"pennylane\")(state)"
      ],
      "metadata": {
        "colab": {
          "base_uri": "https://localhost:8080/",
          "height": 441
        },
        "id": "VtrwrKHYNTI1",
        "outputId": "bcd14378-223a-4e97-ac1e-704f6d406692"
      },
      "execution_count": 59,
      "outputs": [
        {
          "output_type": "display_data",
          "data": {
            "text/plain": [
              "<Figure size 1500x500 with 1 Axes>"
            ],
            "image/png": "[encoded data removed]"
          },
          "metadata": {}
        }
      ]
    },
    {
      "cell_type": "code",
      "source": [
        "norm = np.linalg.norm(state)\n",
        "\n",
        "print(\"Norm:\", norm)\n",
        "print(\"Is normalized?\", np.isclose(norm, 1.0))\n",
        "print()\n",
        "# Probabilities = squared magnitudes\n",
        "probs = np.abs(state)**2\n",
        "\n",
        "print(\"Probabilities:\", probs)\n",
        "print(\"Sum:\", np.sum(probs))  # should be 1.0\n",
        "print(\"Sum:\", round(np.sum(probs), 5))   # rounded to 5 decimals"
      ],
      "metadata": {
        "colab": {
          "base_uri": "https://localhost:8080/"
        },
        "id": "GaeGAFgQN1kX",
        "outputId": "25caee28-8cf9-460b-9968-8c3de8c8fefe"
      },
      "execution_count": 60,
      "outputs": [
        {
          "output_type": "stream",
          "name": "stdout",
          "text": [
            "Norm: 0.9999999999999999\n",
            "Is normalized? True\n",
            "\n",
            "Probabilities: [0.59 0.41]\n",
            "Sum: 0.9999999999999998\n",
            "Sum: 1.0\n"
          ]
        }
      ]
    },
    {
      "cell_type": "markdown",
      "source": [
        "### Density Matrix\n",
        "https://docs.pennylane.ai/en/stable/code/api/pennylane.density_matrix.html\n",
        "\n",
        "https://pennylane.ai/codebook/noisy-quantum-theory\n",
        "\n",
        "### Fidelity\n",
        "\n",
        "https://pennylane.ai/codebook/distance-measures/fidelity\n",
        "\n",
        "https://docs.pennylane.ai/en/stable/code/api/pennylane.math.fidelity.html"
      ],
      "metadata": {
        "id": "Hkvt8GatPw7O"
      }
    },
    {
      "cell_type": "code",
      "source": [
        "@qml.qnode(dev)\n",
        "\n",
        "def teleport_and_get_B(state):\n",
        "    state_preparation(state)\n",
        "    entangle_qubits()\n",
        "    basis_rotation()\n",
        "    measure_and_update()\n",
        "    return qml.density_matrix(\"B\")   # Bob’s final state ρ_B\n",
        "    # return qml.state(wires=\"B\")"
      ],
      "metadata": {
        "id": "G2eXIoLBOANf"
      },
      "execution_count": 61,
      "outputs": []
    },
    {
      "cell_type": "code",
      "source": [
        "bob_state = teleport_and_get_B(state)\n",
        "bob_state"
      ],
      "metadata": {
        "colab": {
          "base_uri": "https://localhost:8080/"
        },
        "id": "HDrzMixybjRr",
        "outputId": "bc70db8a-857c-4b95-efb7-de38746644ee"
      },
      "execution_count": 62,
      "outputs": [
        {
          "output_type": "execute_result",
          "data": {
            "text/plain": [
              "array([[0.59      +0.j        , 0.13284271+0.47355339j],\n",
              "       [0.13284271-0.47355339j, 0.41      +0.j        ]])"
            ]
          },
          "metadata": {},
          "execution_count": 62
        }
      ]
    },
    {
      "cell_type": "code",
      "source": [
        "sy.Matrix(bob_state)"
      ],
      "metadata": {
        "colab": {
          "base_uri": "https://localhost:8080/",
          "height": 58
        },
        "id": "ph5owpuldiYw",
        "outputId": "4ae52cc4-bcf2-4dc2-8aba-98900eb11797"
      },
      "execution_count": 63,
      "outputs": [
        {
          "output_type": "execute_result",
          "data": {
            "text/plain": [
              "Matrix([\n",
              "[                                   0.59, 0.132842712474619 + 0.473553390593274*I],\n",
              "[0.132842712474619 - 0.473553390593274*I,                                    0.41]])"
            ],
            "text/latex": "$\\displaystyle \\left[\\begin{matrix}0.59 & 0.132842712474619 + 0.473553390593274 i\\\\0.132842712474619 - 0.473553390593274 i & 0.41\\end{matrix}\\right]$"
          },
          "metadata": {},
          "execution_count": 63
        }
      ]
    },
    {
      "cell_type": "code",
      "source": [
        "# Test with our example state\n",
        "state = np.array([1/np.sqrt(2) + 0.3j, 0.4 - 0.5j])"
      ],
      "metadata": {
        "id": "BpnxIXqsYDwN"
      },
      "execution_count": 64,
      "outputs": []
    },
    {
      "cell_type": "code",
      "source": [
        "sy.Matrix(state)"
      ],
      "metadata": {
        "colab": {
          "base_uri": "https://localhost:8080/",
          "height": 58
        },
        "id": "O4q0pFvzYXX1",
        "outputId": "56c86573-d5b7-464e-99db-d5158b9d99c6"
      },
      "execution_count": 65,
      "outputs": [
        {
          "output_type": "execute_result",
          "data": {
            "text/plain": [
              "Matrix([\n",
              "[0.707106781186547 + 0.3*I],\n",
              "[              0.4 - 0.5*I]])"
            ],
            "text/latex": "$\\displaystyle \\left[\\begin{matrix}0.707106781186547 + 0.3 i\\\\0.4 - 0.5 i\\end{matrix}\\right]$"
          },
          "metadata": {},
          "execution_count": 65
        }
      ]
    },
    {
      "cell_type": "code",
      "source": [
        "state_dm = qml.math.dm_from_state_vector(state)\n",
        "state_dm"
      ],
      "metadata": {
        "colab": {
          "base_uri": "https://localhost:8080/"
        },
        "id": "w30N5UqiZzG_",
        "outputId": "a1d2fefd-7626-4b55-f1b0-1fc9757f8080"
      },
      "execution_count": 66,
      "outputs": [
        {
          "output_type": "execute_result",
          "data": {
            "text/plain": [
              "array([[0.59      +0.j        , 0.13284271+0.47355339j],\n",
              "       [0.13284271-0.47355339j, 0.41      +0.j        ]])"
            ]
          },
          "metadata": {},
          "execution_count": 66
        }
      ]
    },
    {
      "cell_type": "code",
      "source": [
        "sy.Matrix(state_dm)"
      ],
      "metadata": {
        "colab": {
          "base_uri": "https://localhost:8080/",
          "height": 58
        },
        "id": "H9H-sQSaeaFG",
        "outputId": "4b42be68-f22a-48aa-d106-0f6351e05f9a"
      },
      "execution_count": 67,
      "outputs": [
        {
          "output_type": "execute_result",
          "data": {
            "text/plain": [
              "Matrix([\n",
              "[                                   0.59, 0.132842712474619 + 0.473553390593274*I],\n",
              "[0.132842712474619 - 0.473553390593274*I,                                    0.41]])"
            ],
            "text/latex": "$\\displaystyle \\left[\\begin{matrix}0.59 & 0.132842712474619 + 0.473553390593274 i\\\\0.132842712474619 - 0.473553390593274 i & 0.41\\end{matrix}\\right]$"
          },
          "metadata": {},
          "execution_count": 67
        }
      ]
    },
    {
      "cell_type": "code",
      "source": [
        "# Fidelity between input |ψ> and Bob’s output\n",
        "F = qml.math.fidelity(bob_state, state_dm)\n",
        "print(\"Fidelity:\", F)"
      ],
      "metadata": {
        "colab": {
          "base_uri": "https://localhost:8080/"
        },
        "id": "Mtie9FmPYDyU",
        "outputId": "43cecfe5-bd75-45b1-ad27-0d3a966882c4"
      },
      "execution_count": 68,
      "outputs": [
        {
          "output_type": "stream",
          "name": "stdout",
          "text": [
            "Fidelity: 0.9999999999999998\n"
          ]
        }
      ]
    },
    {
      "cell_type": "markdown",
      "source": [
        "### Deferred measurement\n",
        "\n",
        "https://en.wikipedia.org/wiki/Deferred_measurement_principle\n",
        "\n",
        "By moving the measurement to the end, the 2-qubit controlled-X and controlled-Z gates need to be applied, which requires both qubits to be near (i.e. at a distance where 2-qubit quantum effects can be controlled), and thus limits the distance of the teleportation.   \n",
        "While logically equivalent, deferring the measurement have physical implications.\n",
        "\n",
        "Instead of using **classical communication** of measurement results to control local corrections, one must implement **additional quantum two-qubit gates** directly between Alice’s and Bob’s qubits.  \n",
        "This effectively replaces , long-distance classical signals with, short-range quantum interactions."
      ],
      "metadata": {
        "id": "P7ft0aUdKybr"
      }
    },
    {
      "cell_type": "code",
      "source": [
        "dev = qml.device(\"default.qubit\", wires=[\"S\", \"A\", \"B\"])\n",
        "\n",
        "@qml.qnode(dev)\n",
        "def teleport_d(state):\n",
        "    state_preparation(state)\n",
        "    entangle_qubits()\n",
        "    basis_rotation()\n",
        "    #qml.CNOT(wires=[\"A\", \"B\"])  # X on B controlled by A\n",
        "    #qml.CZ(wires=[\"S\", \"B\"])    # Z on B controlled by S\n",
        "\n",
        "    measure_and_update()\n",
        "    return qml.density_matrix(wires=[\"B\"])\n",
        "\n",
        "_ = qml.draw_mpl(teleport_d, style=\"pennylane\", level=\"device\")(state)"
      ],
      "metadata": {
        "colab": {
          "base_uri": "https://localhost:8080/",
          "height": 436
        },
        "id": "TbzCL-QL2fRs",
        "outputId": "9cf8e6a1-f694-42b3-cb40-9bb4fec10c4e"
      },
      "execution_count": 69,
      "outputs": [
        {
          "output_type": "display_data",
          "data": {
            "text/plain": [
              "<Figure size 800x400 with 1 Axes>"
            ],
            "image/png": "[encoded data removed]"
          },
          "metadata": {}
        }
      ]
    },
    {
      "cell_type": "code",
      "source": [
        "_ = qml.draw_mpl(teleport, style=\"pennylane\")(state)"
      ],
      "metadata": {
        "colab": {
          "base_uri": "https://localhost:8080/",
          "height": 441
        },
        "id": "G7gqq7kMIX-h",
        "outputId": "99139162-d4dc-45e0-d62c-6627d9b7e1d8"
      },
      "execution_count": 70,
      "outputs": [
        {
          "output_type": "display_data",
          "data": {
            "text/plain": [
              "<Figure size 1500x500 with 1 Axes>"
            ],
            "image/png": "[encoded data removed]"
          },
          "metadata": {}
        }
      ]
    },
    {
      "cell_type": "code",
      "source": [
        "def teleport_state(state):\n",
        "    teleported_density_matrix = teleport_d(state)\n",
        "    original_density_matrix = qml.math.dm_from_state_vector(state)\n",
        "\n",
        "    if not np.allclose(teleported_density_matrix, original_density_matrix):\n",
        "        raise ValueError(\n",
        "            f\"Alice's state ({state}) not teleported properly. \"\n",
        "            f\"Final density matrix of Bob's subsystem: {teleported_density_matrix}\"\n",
        "        )\n",
        "    print(\"State successfully teleported!\")\n",
        "\n",
        "\n",
        "teleport_state(state)"
      ],
      "metadata": {
        "colab": {
          "base_uri": "https://localhost:8080/"
        },
        "id": "oHzROJ8R5MZ_",
        "outputId": "1554841a-6d17-4d25-93b1-1e49ed61ccff"
      },
      "execution_count": 71,
      "outputs": [
        {
          "output_type": "stream",
          "name": "stdout",
          "text": [
            "State successfully teleported!\n"
          ]
        }
      ]
    }
  ]
}